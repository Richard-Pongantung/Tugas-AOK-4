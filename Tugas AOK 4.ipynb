{
 "cells": [
  {
   "cell_type": "markdown",
   "metadata": {},
   "source": [
    "## Menguji Data Survey Alpha Cronbach"
   ]
  },
  {
   "cell_type": "code",
   "execution_count": 2,
   "metadata": {},
   "outputs": [],
   "source": [
    "mydata<-read.csv('dataresponn.csv')"
   ]
  },
  {
   "cell_type": "code",
   "execution_count": 3,
   "metadata": {},
   "outputs": [
    {
     "data": {
      "text/html": [
       "<table>\n",
       "<thead><tr><th scope=col>Q1</th><th scope=col>Q2</th><th scope=col>Q3</th><th scope=col>Q4</th><th scope=col>Q5</th><th scope=col>Q6</th><th scope=col>Q7</th><th scope=col>Q8</th><th scope=col>Q9</th><th scope=col>Q10</th><th scope=col>Q11</th></tr></thead>\n",
       "<tbody>\n",
       "\t<tr><td>1</td><td>5</td><td>4</td><td>5</td><td>4</td><td>5</td><td>5</td><td>5</td><td>4</td><td>5</td><td>4</td></tr>\n",
       "\t<tr><td>3</td><td>4</td><td>5</td><td>3</td><td>2</td><td>5</td><td>5</td><td>4</td><td>4</td><td>3</td><td>3</td></tr>\n",
       "\t<tr><td>1</td><td>4</td><td>3</td><td>4</td><td>3</td><td>4</td><td>5</td><td>5</td><td>4</td><td>3</td><td>2</td></tr>\n",
       "\t<tr><td>4</td><td>5</td><td>3</td><td>2</td><td>3</td><td>2</td><td>5</td><td>4</td><td>4</td><td>4</td><td>5</td></tr>\n",
       "\t<tr><td>4</td><td>3</td><td>4</td><td>2</td><td>2</td><td>4</td><td>5</td><td>4</td><td>4</td><td>4</td><td>5</td></tr>\n",
       "\t<tr><td>1</td><td>4</td><td>3</td><td>4</td><td>4</td><td>4</td><td>5</td><td>3</td><td>3</td><td>4</td><td>4</td></tr>\n",
       "</tbody>\n",
       "</table>\n"
      ],
      "text/latex": [
       "\\begin{tabular}{r|lllllllllll}\n",
       " Q1 & Q2 & Q3 & Q4 & Q5 & Q6 & Q7 & Q8 & Q9 & Q10 & Q11\\\\\n",
       "\\hline\n",
       "\t 1 & 5 & 4 & 5 & 4 & 5 & 5 & 5 & 4 & 5 & 4\\\\\n",
       "\t 3 & 4 & 5 & 3 & 2 & 5 & 5 & 4 & 4 & 3 & 3\\\\\n",
       "\t 1 & 4 & 3 & 4 & 3 & 4 & 5 & 5 & 4 & 3 & 2\\\\\n",
       "\t 4 & 5 & 3 & 2 & 3 & 2 & 5 & 4 & 4 & 4 & 5\\\\\n",
       "\t 4 & 3 & 4 & 2 & 2 & 4 & 5 & 4 & 4 & 4 & 5\\\\\n",
       "\t 1 & 4 & 3 & 4 & 4 & 4 & 5 & 3 & 3 & 4 & 4\\\\\n",
       "\\end{tabular}\n"
      ],
      "text/markdown": [
       "\n",
       "| Q1 | Q2 | Q3 | Q4 | Q5 | Q6 | Q7 | Q8 | Q9 | Q10 | Q11 |\n",
       "|---|---|---|---|---|---|---|---|---|---|---|\n",
       "| 1 | 5 | 4 | 5 | 4 | 5 | 5 | 5 | 4 | 5 | 4 |\n",
       "| 3 | 4 | 5 | 3 | 2 | 5 | 5 | 4 | 4 | 3 | 3 |\n",
       "| 1 | 4 | 3 | 4 | 3 | 4 | 5 | 5 | 4 | 3 | 2 |\n",
       "| 4 | 5 | 3 | 2 | 3 | 2 | 5 | 4 | 4 | 4 | 5 |\n",
       "| 4 | 3 | 4 | 2 | 2 | 4 | 5 | 4 | 4 | 4 | 5 |\n",
       "| 1 | 4 | 3 | 4 | 4 | 4 | 5 | 3 | 3 | 4 | 4 |\n",
       "\n"
      ],
      "text/plain": [
       "  Q1 Q2 Q3 Q4 Q5 Q6 Q7 Q8 Q9 Q10 Q11\n",
       "1 1  5  4  5  4  5  5  5  4  5   4  \n",
       "2 3  4  5  3  2  5  5  4  4  3   3  \n",
       "3 1  4  3  4  3  4  5  5  4  3   2  \n",
       "4 4  5  3  2  3  2  5  4  4  4   5  \n",
       "5 4  3  4  2  2  4  5  4  4  4   5  \n",
       "6 1  4  3  4  4  4  5  3  3  4   4  "
      ]
     },
     "metadata": {},
     "output_type": "display_data"
    }
   ],
   "source": [
    "head(mydata)"
   ]
  },
  {
   "cell_type": "code",
   "execution_count": 14,
   "metadata": {},
   "outputs": [],
   "source": [
    "library('psych')"
   ]
  },
  {
   "cell_type": "code",
   "execution_count": 15,
   "metadata": {},
   "outputs": [
    {
     "name": "stderr",
     "output_type": "stream",
     "text": [
      "Warning message in alpha(mydata):\n",
      "\"Some items were negatively correlated with the total scale and probably \n",
      "should be reversed.  \n",
      "To do this, run the function again with the 'check.keys=TRUE' option\""
     ]
    },
    {
     "name": "stdout",
     "output_type": "stream",
     "text": [
      "Some items ( Q5 ) were negatively correlated with the total scale and \n",
      "probably should be reversed.  \n",
      "To do this, run the function again with the 'check.keys=TRUE' option"
     ]
    },
    {
     "data": {
      "text/plain": [
       "\n",
       "Reliability analysis   \n",
       "Call: alpha(x = mydata)\n",
       "\n",
       "  raw_alpha std.alpha G6(smc) average_r S/N   ase mean   sd median_r\n",
       "      0.45      0.51    0.53     0.088 1.1 0.036  3.7 0.33    0.085\n",
       "\n",
       " lower alpha upper     95% confidence boundaries\n",
       "0.38 0.45 0.53 \n",
       "\n",
       " Reliability if an item is dropped:\n",
       "    raw_alpha std.alpha G6(smc) average_r  S/N alpha se  var.r med.r\n",
       "Q1       0.50      0.53    0.55     0.102 1.14    0.033 0.0114 0.108\n",
       "Q2       0.43      0.50    0.52     0.090 0.98    0.038 0.0131 0.085\n",
       "Q3       0.47      0.52    0.53     0.099 1.09    0.036 0.0099 0.098\n",
       "Q4       0.41      0.48    0.49     0.083 0.91    0.040 0.0121 0.075\n",
       "Q5       0.51      0.55    0.55     0.111 1.24    0.033 0.0065 0.099\n",
       "Q6       0.42      0.49    0.51     0.087 0.95    0.039 0.0128 0.076\n",
       "Q7       0.41      0.47    0.49     0.082 0.89    0.039 0.0114 0.083\n",
       "Q8       0.39      0.44    0.46     0.073 0.79    0.041 0.0090 0.075\n",
       "Q9       0.38      0.44    0.46     0.073 0.78    0.041 0.0111 0.075\n",
       "Q10      0.39      0.46    0.47     0.077 0.84    0.040 0.0106 0.083\n",
       "Q11      0.43      0.49    0.51     0.088 0.96    0.038 0.0120 0.088\n",
       "\n",
       " Item statistics \n",
       "      n raw.r std.r  r.cor r.drop mean   sd\n",
       "Q1  504  0.35  0.27 0.0733  0.031  2.6 1.17\n",
       "Q2  504  0.39  0.39 0.2539  0.191  3.9 0.79\n",
       "Q3  504  0.30  0.30 0.1516  0.061  3.7 0.89\n",
       "Q4  504  0.47  0.45 0.3586  0.247  3.7 0.89\n",
       "Q5  504  0.23  0.18 0.0063 -0.035  2.6 0.98\n",
       "Q6  504  0.47  0.42 0.3011  0.218  3.7 1.00\n",
       "Q7  504  0.41  0.47 0.3849  0.255  4.5 0.64\n",
       "Q8  504  0.49  0.56 0.5276  0.339  4.4 0.67\n",
       "Q9  504  0.53  0.56 0.5171  0.369  3.9 0.70\n",
       "Q10 504  0.48  0.52 0.4570  0.305  3.9 0.73\n",
       "Q11 504  0.36  0.41 0.2873  0.184  4.4 0.68\n",
       "\n",
       "Non missing response frequency for each item\n",
       "       1    2    3    4    5 miss\n",
       "Q1  0.19 0.32 0.18 0.27 0.04    0\n",
       "Q2  0.01 0.05 0.16 0.60 0.17    0\n",
       "Q3  0.00 0.09 0.33 0.40 0.18    0\n",
       "Q4  0.00 0.12 0.20 0.51 0.16    0\n",
       "Q5  0.11 0.43 0.25 0.20 0.02    0\n",
       "Q6  0.01 0.17 0.15 0.46 0.20    0\n",
       "Q7  0.00 0.02 0.02 0.42 0.54    0\n",
       "Q8  0.00 0.02 0.05 0.49 0.44    0\n",
       "Q9  0.00 0.04 0.16 0.63 0.18    0\n",
       "Q10 0.00 0.04 0.22 0.56 0.18    0\n",
       "Q11 0.00 0.02 0.04 0.46 0.48    0"
      ]
     },
     "metadata": {},
     "output_type": "display_data"
    },
    {
     "name": "stdout",
     "output_type": "stream",
     "text": [
      "[1] \"Q1  = Apakah anda pernah membuat story board?\"\n",
      "[1] \"Q2  = Aplikasi Adobe Photoshop bajakan lebih banyak digunakan dibandingkan yang legal dan berbayar\"\n",
      "[1] \"Q3  = Aplikasi Canva lebih banyak dipakai mahasiswa dibandingkan dengan Adobe Photoshop\"\n",
      "[1] \"Q4  = Diperlukan waktu lama untuk mahir dalam membuat poster\"\n",
      "[1] \"Q5  = Tingkat kesulitan dalam menjalankan aplikasi Canva\"\n",
      "[1] \"Q6  = Jenis font lebih berpengaruh daripada warna font\"\n",
      "[1] \"Q7  = Logo yang baik dapat memperkuat identitas dari sebuah brand\"\n",
      "[1] \"Q8  = Pekerjaan desainer grafis sangat diperlukan di masa sekarang\"\n",
      "[1] \"Q9  = Bidang profesi desain grafis banyak berkecimpung dalam kegiatan penerbitan (Publishing House)\"\n",
      "[1] \"Q10 = Pekerjaan dari desain grafis mendapat banyak keuntungan dari dalam perdagangan \"\n",
      "[1] \"Q11 = Hasil karya harus dapat membawakan pesan yang dapat diinterpretasikan sama oleh semua pihak\"\n"
     ]
    }
   ],
   "source": [
    "alpha(mydata)\n",
    "print('Q1  = Apakah anda pernah membuat story board?')\n",
    "print('Q2  = Aplikasi Adobe Photoshop bajakan lebih banyak digunakan dibandingkan yang legal dan berbayar')\n",
    "print('Q3  = Aplikasi Canva lebih banyak dipakai mahasiswa dibandingkan dengan Adobe Photoshop')\n",
    "print('Q4  = Diperlukan waktu lama untuk mahir dalam membuat poster')\n",
    "print('Q5  = Tingkat kesulitan dalam menjalankan aplikasi Canva')\n",
    "print('Q6  = Jenis font lebih berpengaruh daripada warna font')\n",
    "print('Q7  = Logo yang baik dapat memperkuat identitas dari sebuah brand')\n",
    "print('Q8  = Pekerjaan desainer grafis sangat diperlukan di masa sekarang')\n",
    "print('Q9  = Bidang profesi desain grafis banyak berkecimpung dalam kegiatan penerbitan (Publishing House)')\n",
    "print('Q10 = Pekerjaan dari desain grafis mendapat banyak keuntungan dari dalam perdagangan ')\n",
    "print('Q11 = Hasil karya harus dapat membawakan pesan yang dapat diinterpretasikan sama oleh semua pihak')"
   ]
  },
  {
   "cell_type": "markdown",
   "metadata": {},
   "source": [
    "# T-Test"
   ]
  },
  {
   "cell_type": "code",
   "execution_count": 17,
   "metadata": {},
   "outputs": [],
   "source": [
    "mydata<-read.csv('dataresponn.csv')"
   ]
  },
  {
   "cell_type": "code",
   "execution_count": 18,
   "metadata": {},
   "outputs": [],
   "source": [
    "attach(mydata)"
   ]
  },
  {
   "cell_type": "code",
   "execution_count": 19,
   "metadata": {},
   "outputs": [
    {
     "data": {
      "text/html": [
       "<ol class=list-inline>\n",
       "\t<li>'Q1'</li>\n",
       "\t<li>'Q2'</li>\n",
       "\t<li>'Q3'</li>\n",
       "\t<li>'Q4'</li>\n",
       "\t<li>'Q5'</li>\n",
       "\t<li>'Q6'</li>\n",
       "\t<li>'Q7'</li>\n",
       "\t<li>'Q8'</li>\n",
       "\t<li>'Q9'</li>\n",
       "\t<li>'Q10'</li>\n",
       "\t<li>'Q11'</li>\n",
       "</ol>\n"
      ],
      "text/latex": [
       "\\begin{enumerate*}\n",
       "\\item 'Q1'\n",
       "\\item 'Q2'\n",
       "\\item 'Q3'\n",
       "\\item 'Q4'\n",
       "\\item 'Q5'\n",
       "\\item 'Q6'\n",
       "\\item 'Q7'\n",
       "\\item 'Q8'\n",
       "\\item 'Q9'\n",
       "\\item 'Q10'\n",
       "\\item 'Q11'\n",
       "\\end{enumerate*}\n"
      ],
      "text/markdown": [
       "1. 'Q1'\n",
       "2. 'Q2'\n",
       "3. 'Q3'\n",
       "4. 'Q4'\n",
       "5. 'Q5'\n",
       "6. 'Q6'\n",
       "7. 'Q7'\n",
       "8. 'Q8'\n",
       "9. 'Q9'\n",
       "10. 'Q10'\n",
       "11. 'Q11'\n",
       "\n",
       "\n"
      ],
      "text/plain": [
       " [1] \"Q1\"  \"Q2\"  \"Q3\"  \"Q4\"  \"Q5\"  \"Q6\"  \"Q7\"  \"Q8\"  \"Q9\"  \"Q10\" \"Q11\""
      ]
     },
     "metadata": {},
     "output_type": "display_data"
    }
   ],
   "source": [
    "names(mydata)"
   ]
  },
  {
   "cell_type": "code",
   "execution_count": 20,
   "metadata": {},
   "outputs": [
    {
     "data": {
      "text/html": [
       "<ol class=list-inline>\n",
       "\t<li>504</li>\n",
       "\t<li>11</li>\n",
       "</ol>\n"
      ],
      "text/latex": [
       "\\begin{enumerate*}\n",
       "\\item 504\n",
       "\\item 11\n",
       "\\end{enumerate*}\n"
      ],
      "text/markdown": [
       "1. 504\n",
       "2. 11\n",
       "\n",
       "\n"
      ],
      "text/plain": [
       "[1] 504  11"
      ]
     },
     "metadata": {},
     "output_type": "display_data"
    }
   ],
   "source": [
    "dim(mydata)"
   ]
  },
  {
   "cell_type": "code",
   "execution_count": 21,
   "metadata": {},
   "outputs": [
    {
     "data": {
      "text/plain": [
       "\n",
       "\tPaired t-test\n",
       "\n",
       "data:  Q1 and Q2\n",
       "t = -20.306, df = 503, p-value < 2.2e-16\n",
       "alternative hypothesis: true difference in means is not equal to 0\n",
       "99 percent confidence interval:\n",
       " -1.400217 -1.083910\n",
       "sample estimates:\n",
       "mean of the differences \n",
       "              -1.242063 \n"
      ]
     },
     "metadata": {},
     "output_type": "display_data"
    }
   ],
   "source": [
    "t.test(Q1, Q2, mu=0, alt=\"two.sided\", paired=T, conf.level=0.99)"
   ]
  },
  {
   "cell_type": "code",
   "execution_count": 22,
   "metadata": {},
   "outputs": [
    {
     "data": {
      "text/plain": [
       "\n",
       "\tPaired t-test\n",
       "\n",
       "data:  Q1 and Q4\n",
       "t = -15.814, df = 503, p-value < 2.2e-16\n",
       "alternative hypothesis: true difference in means is not equal to 0\n",
       "99 percent confidence interval:\n",
       " -1.239687 -0.891265\n",
       "sample estimates:\n",
       "mean of the differences \n",
       "              -1.065476 \n"
      ]
     },
     "metadata": {},
     "output_type": "display_data"
    }
   ],
   "source": [
    "t.test(Q1, Q4, mu=0, alt=\"two.sided\", paired=T, conf.level=0.99)"
   ]
  },
  {
   "cell_type": "code",
   "execution_count": 23,
   "metadata": {},
   "outputs": [
    {
     "data": {
      "text/plain": [
       "\n",
       "\tPaired t-test\n",
       "\n",
       "data:  Q1 and Q5\n",
       "t = 0.58138, df = 503, p-value = 0.5612\n",
       "alternative hypothesis: true difference in means is not equal to 0\n",
       "99 percent confidence interval:\n",
       " -0.1436417  0.2269750\n",
       "sample estimates:\n",
       "mean of the differences \n",
       "             0.04166667 \n"
      ]
     },
     "metadata": {},
     "output_type": "display_data"
    }
   ],
   "source": [
    "t.test(Q1, Q5, mu=0, alt=\"two.sided\", paired=T, conf.level=0.99)"
   ]
  },
  {
   "cell_type": "code",
   "execution_count": 24,
   "metadata": {},
   "outputs": [
    {
     "data": {
      "text/plain": [
       "\n",
       "\tPaired t-test\n",
       "\n",
       "data:  Q1 and Q6\n",
       "t = -15.311, df = 503, p-value < 2.2e-16\n",
       "alternative hypothesis: true difference in means is not equal to 0\n",
       "99 percent confidence interval:\n",
       " -1.2245353 -0.8707028\n",
       "sample estimates:\n",
       "mean of the differences \n",
       "              -1.047619 \n"
      ]
     },
     "metadata": {},
     "output_type": "display_data"
    }
   ],
   "source": [
    "t.test(Q1, Q6, mu=0, alt=\"two.sided\", paired=T, conf.level=0.99)"
   ]
  },
  {
   "cell_type": "code",
   "execution_count": 25,
   "metadata": {},
   "outputs": [
    {
     "data": {
      "text/plain": [
       "\n",
       "\tPaired t-test\n",
       "\n",
       "data:  Q1 and Q7\n",
       "t = -31.851, df = 503, p-value < 2.2e-16\n",
       "alternative hypothesis: true difference in means is not equal to 0\n",
       "99 percent confidence interval:\n",
       " -1.999325 -1.699088\n",
       "sample estimates:\n",
       "mean of the differences \n",
       "              -1.849206 \n"
      ]
     },
     "metadata": {},
     "output_type": "display_data"
    }
   ],
   "source": [
    "t.test(Q1, Q7, mu=0, alt=\"two.sided\", paired=T, conf.level=0.99)"
   ]
  },
  {
   "cell_type": "code",
   "execution_count": 26,
   "metadata": {},
   "outputs": [
    {
     "data": {
      "text/plain": [
       "\n",
       "\tPaired t-test\n",
       "\n",
       "data:  Q1 and Q8\n",
       "t = -29.231, df = 503, p-value < 2.2e-16\n",
       "alternative hypothesis: true difference in means is not equal to 0\n",
       "99 percent confidence interval:\n",
       " -1.870245 -1.566263\n",
       "sample estimates:\n",
       "mean of the differences \n",
       "              -1.718254 \n"
      ]
     },
     "metadata": {},
     "output_type": "display_data"
    }
   ],
   "source": [
    "t.test(Q1, Q8, mu=0, alt=\"two.sided\", paired=T, conf.level=0.99)"
   ]
  },
  {
   "cell_type": "code",
   "execution_count": 27,
   "metadata": {},
   "outputs": [
    {
     "data": {
      "text/plain": [
       "\n",
       "\tPaired t-test\n",
       "\n",
       "data:  Q1 and Q9\n",
       "t = -22.097, df = 503, p-value < 2.2e-16\n",
       "alternative hypothesis: true difference in means is not equal to 0\n",
       "99 percent confidence interval:\n",
       " -1.458322 -1.152790\n",
       "sample estimates:\n",
       "mean of the differences \n",
       "              -1.305556 \n"
      ]
     },
     "metadata": {},
     "output_type": "display_data"
    }
   ],
   "source": [
    "t.test(Q1, Q9, mu=0, alt=\"two.sided\", paired=T, conf.level=0.99)"
   ]
  },
  {
   "cell_type": "code",
   "execution_count": 28,
   "metadata": {},
   "outputs": [
    {
     "data": {
      "text/plain": [
       "\n",
       "\tPaired t-test\n",
       "\n",
       "data:  Q1 and Q10\n",
       "t = -20.817, df = 503, p-value < 2.2e-16\n",
       "alternative hypothesis: true difference in means is not equal to 0\n",
       "99 percent confidence interval:\n",
       " -1.396335 -1.087792\n",
       "sample estimates:\n",
       "mean of the differences \n",
       "              -1.242063 \n"
      ]
     },
     "metadata": {},
     "output_type": "display_data"
    }
   ],
   "source": [
    "t.test(Q1, Q10, mu=0, alt=\"two.sided\", paired=T, conf.level=0.99)"
   ]
  },
  {
   "cell_type": "code",
   "execution_count": 29,
   "metadata": {},
   "outputs": [
    {
     "data": {
      "text/plain": [
       "\n",
       "\tPaired t-test\n",
       "\n",
       "data:  Q2 and Q3\n",
       "t = 4.131, df = 503, p-value = 4.229e-05\n",
       "alternative hypothesis: true difference in means is not equal to 0\n",
       "99 percent confidence interval:\n",
       " 0.07719383 0.33550458\n",
       "sample estimates:\n",
       "mean of the differences \n",
       "              0.2063492 \n"
      ]
     },
     "metadata": {},
     "output_type": "display_data"
    }
   ],
   "source": [
    "t.test(Q2, Q3, mu=0, alt=\"two.sided\", paired=T, conf.level=0.99)"
   ]
  },
  {
   "cell_type": "code",
   "execution_count": 30,
   "metadata": {},
   "outputs": [
    {
     "data": {
      "text/plain": [
       "\n",
       "\tPaired t-test\n",
       "\n",
       "data:  Q2 and Q4\n",
       "t = 3.55, df = 503, p-value = 0.0004214\n",
       "alternative hypothesis: true difference in means is not equal to 0\n",
       "99 percent confidence interval:\n",
       " 0.04796964 0.30520496\n",
       "sample estimates:\n",
       "mean of the differences \n",
       "              0.1765873 \n"
      ]
     },
     "metadata": {},
     "output_type": "display_data"
    }
   ],
   "source": [
    "t.test(Q2, Q4, mu=0, alt=\"two.sided\", paired=T, conf.level=0.99)"
   ]
  },
  {
   "cell_type": "code",
   "execution_count": 31,
   "metadata": {},
   "outputs": [
    {
     "data": {
      "text/plain": [
       "\n",
       "\tPaired t-test\n",
       "\n",
       "data:  Q2 and Q5\n",
       "t = 22.875, df = 503, p-value < 2.2e-16\n",
       "alternative hypothesis: true difference in means is not equal to 0\n",
       "99 percent confidence interval:\n",
       " 1.138624 1.428836\n",
       "sample estimates:\n",
       "mean of the differences \n",
       "                1.28373 \n"
      ]
     },
     "metadata": {},
     "output_type": "display_data"
    }
   ],
   "source": [
    "t.test(Q2, Q5, mu=0, alt=\"two.sided\", paired=T, conf.level=0.99)"
   ]
  },
  {
   "cell_type": "code",
   "execution_count": 32,
   "metadata": {},
   "outputs": [
    {
     "data": {
      "text/plain": [
       "\n",
       "\tPaired t-test\n",
       "\n",
       "data:  Q2 and Q6\n",
       "t = 3.677, df = 503, p-value = 0.0002614\n",
       "alternative hypothesis: true difference in means is not equal to 0\n",
       "99 percent confidence interval:\n",
       " 0.05771102 0.33117787\n",
       "sample estimates:\n",
       "mean of the differences \n",
       "              0.1944444 \n"
      ]
     },
     "metadata": {},
     "output_type": "display_data"
    }
   ],
   "source": [
    "t.test(Q2, Q6, mu=0, alt=\"two.sided\", paired=T, conf.level=0.99)"
   ]
  },
  {
   "cell_type": "code",
   "execution_count": 33,
   "metadata": {},
   "outputs": [
    {
     "data": {
      "text/plain": [
       "\n",
       "\tPaired t-test\n",
       "\n",
       "data:  Q2 and Q7\n",
       "t = -13.979, df = 503, p-value < 2.2e-16\n",
       "alternative hypothesis: true difference in means is not equal to 0\n",
       "99 percent confidence interval:\n",
       " -0.7194429 -0.4948428\n",
       "sample estimates:\n",
       "mean of the differences \n",
       "             -0.6071429 \n"
      ]
     },
     "metadata": {},
     "output_type": "display_data"
    }
   ],
   "source": [
    "t.test(Q2, Q7, mu=0, alt=\"two.sided\", paired=T, conf.level=0.99)"
   ]
  },
  {
   "cell_type": "code",
   "execution_count": 34,
   "metadata": {},
   "outputs": [
    {
     "data": {
      "text/plain": [
       "\n",
       "\tPaired t-test\n",
       "\n",
       "data:  Q2 and Q8\n",
       "t = -11.039, df = 503, p-value < 2.2e-16\n",
       "alternative hypothesis: true difference in means is not equal to 0\n",
       "99 percent confidence interval:\n",
       " -0.5877247 -0.3646563\n",
       "sample estimates:\n",
       "mean of the differences \n",
       "             -0.4761905 \n"
      ]
     },
     "metadata": {},
     "output_type": "display_data"
    }
   ],
   "source": [
    "t.test(Q2, Q8, mu=0, alt=\"two.sided\", paired=T, conf.level=0.99)"
   ]
  },
  {
   "cell_type": "code",
   "execution_count": 35,
   "metadata": {},
   "outputs": [
    {
     "data": {
      "text/plain": [
       "\n",
       "\tPaired t-test\n",
       "\n",
       "data:  Q2 and Q9\n",
       "t = -1.424, df = 503, p-value = 0.1551\n",
       "alternative hypothesis: true difference in means is not equal to 0\n",
       "99 percent confidence interval:\n",
       " -0.17877637  0.05179224\n",
       "sample estimates:\n",
       "mean of the differences \n",
       "            -0.06349206 \n"
      ]
     },
     "metadata": {},
     "output_type": "display_data"
    }
   ],
   "source": [
    "t.test(Q2, Q9, mu=0, alt=\"two.sided\", paired=T, conf.level=0.99)"
   ]
  },
  {
   "cell_type": "code",
   "execution_count": 36,
   "metadata": {},
   "outputs": [
    {
     "data": {
      "text/plain": [
       "\n",
       "\tPaired t-test\n",
       "\n",
       "data:  Q2 and Q10\n",
       "t = 0, df = 503, p-value = 1\n",
       "alternative hypothesis: true difference in means is not equal to 0\n",
       "99 percent confidence interval:\n",
       " -0.1215242  0.1215242\n",
       "sample estimates:\n",
       "mean of the differences \n",
       "                      0 \n"
      ]
     },
     "metadata": {},
     "output_type": "display_data"
    }
   ],
   "source": [
    "t.test(Q2, Q10, mu=0, alt=\"two.sided\", paired=T, conf.level=0.99)"
   ]
  },
  {
   "cell_type": "code",
   "execution_count": 37,
   "metadata": {},
   "outputs": [
    {
     "data": {
      "text/plain": [
       "\n",
       "\tPaired t-test\n",
       "\n",
       "data:  Q3 and Q4\n",
       "t = -0.55594, df = 503, p-value = 0.5785\n",
       "alternative hypothesis: true difference in means is not equal to 0\n",
       "99 percent confidence interval:\n",
       " -0.1681830  0.1086592\n",
       "sample estimates:\n",
       "mean of the differences \n",
       "             -0.0297619 \n"
      ]
     },
     "metadata": {},
     "output_type": "display_data"
    }
   ],
   "source": [
    "t.test(Q3, Q4, mu=0, alt=\"two.sided\", paired=T, conf.level=0.99)"
   ]
  },
  {
   "cell_type": "code",
   "execution_count": 38,
   "metadata": {},
   "outputs": [
    {
     "data": {
      "text/plain": [
       "\n",
       "\tPaired t-test\n",
       "\n",
       "data:  Q3 and Q5\n",
       "t = 16.253, df = 503, p-value < 2.2e-16\n",
       "alternative hypothesis: true difference in means is not equal to 0\n",
       "99 percent confidence interval:\n",
       " 0.9059822 1.2487797\n",
       "sample estimates:\n",
       "mean of the differences \n",
       "               1.077381 \n"
      ]
     },
     "metadata": {},
     "output_type": "display_data"
    }
   ],
   "source": [
    "t.test(Q3, Q5, mu=0, alt=\"two.sided\", paired=T, conf.level=0.99)"
   ]
  },
  {
   "cell_type": "code",
   "execution_count": 39,
   "metadata": {},
   "outputs": [
    {
     "data": {
      "text/plain": [
       "\n",
       "\tPaired t-test\n",
       "\n",
       "data:  Q3 and Q6\n",
       "t = -0.20207, df = 503, p-value = 0.8399\n",
       "alternative hypothesis: true difference in means is not equal to 0\n",
       "99 percent confidence interval:\n",
       " -0.1642372  0.1404276\n",
       "sample estimates:\n",
       "mean of the differences \n",
       "            -0.01190476 \n"
      ]
     },
     "metadata": {},
     "output_type": "display_data"
    }
   ],
   "source": [
    "t.test(Q3, Q6, mu=0, alt=\"two.sided\", paired=T, conf.level=0.99)"
   ]
  },
  {
   "cell_type": "code",
   "execution_count": 40,
   "metadata": {},
   "outputs": [
    {
     "data": {
      "text/plain": [
       "\n",
       "\tPaired t-test\n",
       "\n",
       "data:  Q3 and Q7\n",
       "t = -17.332, df = 503, p-value < 2.2e-16\n",
       "alternative hypothesis: true difference in means is not equal to 0\n",
       "99 percent confidence interval:\n",
       " -0.9348499 -0.6921342\n",
       "sample estimates:\n",
       "mean of the differences \n",
       "             -0.8134921 \n"
      ]
     },
     "metadata": {},
     "output_type": "display_data"
    }
   ],
   "source": [
    "t.test(Q3, Q7, mu=0, alt=\"two.sided\", paired=T, conf.level=0.99)"
   ]
  },
  {
   "cell_type": "code",
   "execution_count": 41,
   "metadata": {},
   "outputs": [
    {
     "data": {
      "text/plain": [
       "\n",
       "\tPaired t-test\n",
       "\n",
       "data:  Q3 and Q8\n",
       "t = -14.855, df = 503, p-value < 2.2e-16\n",
       "alternative hypothesis: true difference in means is not equal to 0\n",
       "99 percent confidence interval:\n",
       " -0.8013432 -0.5637362\n",
       "sample estimates:\n",
       "mean of the differences \n",
       "             -0.6825397 \n"
      ]
     },
     "metadata": {},
     "output_type": "display_data"
    }
   ],
   "source": [
    "t.test(Q3, Q8, mu=0, alt=\"two.sided\", paired=T, conf.level=0.99)"
   ]
  },
  {
   "cell_type": "code",
   "execution_count": 42,
   "metadata": {},
   "outputs": [
    {
     "data": {
      "text/plain": [
       "\n",
       "\tPaired t-test\n",
       "\n",
       "data:  Q3 and Q9\n",
       "t = -5.7144, df = 503, p-value = 1.888e-08\n",
       "alternative hypothesis: true difference in means is not equal to 0\n",
       "99 percent confidence interval:\n",
       " -0.3919393 -0.1477432\n",
       "sample estimates:\n",
       "mean of the differences \n",
       "             -0.2698413 \n"
      ]
     },
     "metadata": {},
     "output_type": "display_data"
    }
   ],
   "source": [
    "t.test(Q3, Q9, mu=0, alt=\"two.sided\", paired=T, conf.level=0.99)"
   ]
  },
  {
   "cell_type": "code",
   "execution_count": 43,
   "metadata": {},
   "outputs": [
    {
     "data": {
      "text/plain": [
       "\n",
       "\tPaired t-test\n",
       "\n",
       "data:  Q3 and Q10\n",
       "t = -4.1376, df = 503, p-value = 4.114e-05\n",
       "alternative hypothesis: true difference in means is not equal to 0\n",
       "99 percent confidence interval:\n",
       " -0.33530023 -0.07739818\n",
       "sample estimates:\n",
       "mean of the differences \n",
       "             -0.2063492 \n"
      ]
     },
     "metadata": {},
     "output_type": "display_data"
    }
   ],
   "source": [
    "t.test(Q3, Q10, mu=0, alt=\"two.sided\", paired=T, conf.level=0.99)"
   ]
  },
  {
   "cell_type": "code",
   "execution_count": 44,
   "metadata": {},
   "outputs": [
    {
     "data": {
      "text/plain": [
       "\n",
       "\tPaired t-test\n",
       "\n",
       "data:  Q4 and Q5\n",
       "t = 21.311, df = 503, p-value < 2.2e-16\n",
       "alternative hypothesis: true difference in means is not equal to 0\n",
       "99 percent confidence interval:\n",
       " 0.9728154 1.2414703\n",
       "sample estimates:\n",
       "mean of the differences \n",
       "               1.107143 \n"
      ]
     },
     "metadata": {},
     "output_type": "display_data"
    }
   ],
   "source": [
    "t.test(Q4, Q5, mu=0, alt=\"two.sided\", paired=T, conf.level=0.99)"
   ]
  },
  {
   "cell_type": "code",
   "execution_count": 45,
   "metadata": {},
   "outputs": [
    {
     "data": {
      "text/plain": [
       "\n",
       "\tPaired t-test\n",
       "\n",
       "data:  Q4 and Q6\n",
       "t = 0.31772, df = 503, p-value = 0.7508\n",
       "alternative hypothesis: true difference in means is not equal to 0\n",
       "99 percent confidence interval:\n",
       " -0.1274682  0.1631825\n",
       "sample estimates:\n",
       "mean of the differences \n",
       "             0.01785714 \n"
      ]
     },
     "metadata": {},
     "output_type": "display_data"
    }
   ],
   "source": [
    "t.test(Q4, Q6, mu=0, alt=\"two.sided\", paired=T, conf.level=0.99)"
   ]
  },
  {
   "cell_type": "code",
   "execution_count": 46,
   "metadata": {},
   "outputs": [
    {
     "data": {
      "text/plain": [
       "\n",
       "\tPaired t-test\n",
       "\n",
       "data:  Q4 and Q7\n",
       "t = -16.928, df = 503, p-value < 2.2e-16\n",
       "alternative hypothesis: true difference in means is not equal to 0\n",
       "99 percent confidence interval:\n",
       " -0.9034425 -0.6640178\n",
       "sample estimates:\n",
       "mean of the differences \n",
       "             -0.7837302 \n"
      ]
     },
     "metadata": {},
     "output_type": "display_data"
    }
   ],
   "source": [
    "t.test(Q4, Q7, mu=0, alt=\"two.sided\", paired=T, conf.level=0.99)"
   ]
  },
  {
   "cell_type": "code",
   "execution_count": 47,
   "metadata": {},
   "outputs": [
    {
     "data": {
      "text/plain": [
       "\n",
       "\tPaired t-test\n",
       "\n",
       "data:  Q4 and Q8\n",
       "t = -14.355, df = 503, p-value < 2.2e-16\n",
       "alternative hypothesis: true difference in means is not equal to 0\n",
       "99 percent confidence interval:\n",
       " -0.7703574 -0.5351982\n",
       "sample estimates:\n",
       "mean of the differences \n",
       "             -0.6527778 \n"
      ]
     },
     "metadata": {},
     "output_type": "display_data"
    }
   ],
   "source": [
    "t.test(Q4, Q8, mu=0, alt=\"two.sided\", paired=T, conf.level=0.99)"
   ]
  },
  {
   "cell_type": "code",
   "execution_count": 48,
   "metadata": {},
   "outputs": [
    {
     "data": {
      "text/plain": [
       "\n",
       "\tPaired t-test\n",
       "\n",
       "data:  Q4 and Q9\n",
       "t = -5.332, df = 503, p-value = 1.47e-07\n",
       "alternative hypothesis: true difference in means is not equal to 0\n",
       "99 percent confidence interval:\n",
       " -0.3564998 -0.1236589\n",
       "sample estimates:\n",
       "mean of the differences \n",
       "             -0.2400794 \n"
      ]
     },
     "metadata": {},
     "output_type": "display_data"
    }
   ],
   "source": [
    "t.test(Q4, Q9, mu=0, alt=\"two.sided\", paired=T, conf.level=0.99)"
   ]
  },
  {
   "cell_type": "code",
   "execution_count": 49,
   "metadata": {},
   "outputs": [
    {
     "data": {
      "text/plain": [
       "\n",
       "\tPaired t-test\n",
       "\n",
       "data:  Q4 and Q10\n",
       "t = -3.602, df = 503, p-value = 0.0003471\n",
       "alternative hypothesis: true difference in means is not equal to 0\n",
       "99 percent confidence interval:\n",
       " -0.30334618 -0.04982843\n",
       "sample estimates:\n",
       "mean of the differences \n",
       "             -0.1765873 \n"
      ]
     },
     "metadata": {},
     "output_type": "display_data"
    }
   ],
   "source": [
    "t.test(Q4, Q10, mu=0, alt=\"two.sided\", paired=T, conf.level=0.99)"
   ]
  },
  {
   "cell_type": "code",
   "execution_count": 50,
   "metadata": {},
   "outputs": [
    {
     "data": {
      "text/plain": [
       "\n",
       "\tPaired t-test\n",
       "\n",
       "data:  Q5 and Q6\n",
       "t = -18.98, df = 503, p-value < 2.2e-16\n",
       "alternative hypothesis: true difference in means is not equal to 0\n",
       "99 percent confidence interval:\n",
       " -1.2376766 -0.9408948\n",
       "sample estimates:\n",
       "mean of the differences \n",
       "              -1.089286 \n"
      ]
     },
     "metadata": {},
     "output_type": "display_data"
    }
   ],
   "source": [
    "t.test(Q5, Q6, mu=0, alt=\"two.sided\", paired=T, conf.level=0.99)"
   ]
  },
  {
   "cell_type": "code",
   "execution_count": 51,
   "metadata": {},
   "outputs": [
    {
     "data": {
      "text/plain": [
       "\n",
       "\tPaired t-test\n",
       "\n",
       "data:  Q5 and Q7\n",
       "t = -35.555, df = 503, p-value < 2.2e-16\n",
       "alternative hypothesis: true difference in means is not equal to 0\n",
       "99 percent confidence interval:\n",
       " -2.028381 -1.753365\n",
       "sample estimates:\n",
       "mean of the differences \n",
       "              -1.890873 \n"
      ]
     },
     "metadata": {},
     "output_type": "display_data"
    }
   ],
   "source": [
    "t.test(Q5, Q7, mu=0, alt=\"two.sided\", paired=T, conf.level=0.99)"
   ]
  },
  {
   "cell_type": "code",
   "execution_count": 52,
   "metadata": {},
   "outputs": [
    {
     "data": {
      "text/plain": [
       "\n",
       "\tPaired t-test\n",
       "\n",
       "data:  Q5 and Q8\n",
       "t = -31.976, df = 503, p-value < 2.2e-16\n",
       "alternative hypothesis: true difference in means is not equal to 0\n",
       "99 percent confidence interval:\n",
       " -1.902231 -1.617611\n",
       "sample estimates:\n",
       "mean of the differences \n",
       "              -1.759921 \n"
      ]
     },
     "metadata": {},
     "output_type": "display_data"
    }
   ],
   "source": [
    "t.test(Q5, Q8, mu=0, alt=\"two.sided\", paired=T, conf.level=0.99)"
   ]
  },
  {
   "cell_type": "code",
   "execution_count": 53,
   "metadata": {},
   "outputs": [
    {
     "data": {
      "text/plain": [
       "\n",
       "\tPaired t-test\n",
       "\n",
       "data:  Q5 and Q9\n",
       "t = -26.085, df = 503, p-value < 2.2e-16\n",
       "alternative hypothesis: true difference in means is not equal to 0\n",
       "99 percent confidence interval:\n",
       " -1.480764 -1.213680\n",
       "sample estimates:\n",
       "mean of the differences \n",
       "              -1.347222 \n"
      ]
     },
     "metadata": {},
     "output_type": "display_data"
    }
   ],
   "source": [
    "t.test(Q5, Q9, mu=0, alt=\"two.sided\", paired=T, conf.level=0.99)"
   ]
  },
  {
   "cell_type": "code",
   "execution_count": 54,
   "metadata": {},
   "outputs": [
    {
     "data": {
      "text/plain": [
       "\n",
       "\tPaired t-test\n",
       "\n",
       "data:  Q5 and Q10\n",
       "t = -23.658, df = 503, p-value < 2.2e-16\n",
       "alternative hypothesis: true difference in means is not equal to 0\n",
       "99 percent confidence interval:\n",
       " -1.424032 -1.143429\n",
       "sample estimates:\n",
       "mean of the differences \n",
       "               -1.28373 \n"
      ]
     },
     "metadata": {},
     "output_type": "display_data"
    }
   ],
   "source": [
    "t.test(Q5, Q10, mu=0, alt=\"two.sided\", paired=T, conf.level=0.99)"
   ]
  },
  {
   "cell_type": "code",
   "execution_count": 55,
   "metadata": {},
   "outputs": [
    {
     "data": {
      "text/plain": [
       "\n",
       "\tPaired t-test\n",
       "\n",
       "data:  Q6 and Q7\n",
       "t = -15.927, df = 503, p-value < 2.2e-16\n",
       "alternative hypothesis: true difference in means is not equal to 0\n",
       "99 percent confidence interval:\n",
       " -0.9317210 -0.6714536\n",
       "sample estimates:\n",
       "mean of the differences \n",
       "             -0.8015873 \n"
      ]
     },
     "metadata": {},
     "output_type": "display_data"
    }
   ],
   "source": [
    "t.test(Q6, Q7, mu=0, alt=\"two.sided\", paired=T, conf.level=0.99)"
   ]
  },
  {
   "cell_type": "code",
   "execution_count": 56,
   "metadata": {},
   "outputs": [
    {
     "data": {
      "text/plain": [
       "\n",
       "\tPaired t-test\n",
       "\n",
       "data:  Q6 and Q8\n",
       "t = -13.052, df = 503, p-value < 2.2e-16\n",
       "alternative hypothesis: true difference in means is not equal to 0\n",
       "99 percent confidence interval:\n",
       " -0.8034928 -0.5377771\n",
       "sample estimates:\n",
       "mean of the differences \n",
       "             -0.6706349 \n"
      ]
     },
     "metadata": {},
     "output_type": "display_data"
    }
   ],
   "source": [
    "t.test(Q6, Q8, mu=0, alt=\"two.sided\", paired=T, conf.level=0.99)"
   ]
  },
  {
   "cell_type": "code",
   "execution_count": 57,
   "metadata": {},
   "outputs": [
    {
     "data": {
      "text/plain": [
       "\n",
       "\tPaired t-test\n",
       "\n",
       "data:  Q6 and Q9\n",
       "t = -5.0458, df = 503, p-value = 6.32e-07\n",
       "alternative hypothesis: true difference in means is not equal to 0\n",
       "99 percent confidence interval:\n",
       " -0.3901121 -0.1257610\n",
       "sample estimates:\n",
       "mean of the differences \n",
       "             -0.2579365 \n"
      ]
     },
     "metadata": {},
     "output_type": "display_data"
    }
   ],
   "source": [
    "t.test(Q6, Q9, mu=0, alt=\"two.sided\", paired=T, conf.level=0.99)"
   ]
  },
  {
   "cell_type": "code",
   "execution_count": 58,
   "metadata": {},
   "outputs": [
    {
     "data": {
      "text/plain": [
       "\n",
       "\tPaired t-test\n",
       "\n",
       "data:  Q6 and Q10\n",
       "t = -3.8255, df = 503, p-value = 0.0001469\n",
       "alternative hypothesis: true difference in means is not equal to 0\n",
       "99 percent confidence interval:\n",
       " -0.32586728 -0.06302161\n",
       "sample estimates:\n",
       "mean of the differences \n",
       "             -0.1944444 \n"
      ]
     },
     "metadata": {},
     "output_type": "display_data"
    }
   ],
   "source": [
    "t.test(Q6, Q10, mu=0, alt=\"two.sided\", paired=T, conf.level=0.99)"
   ]
  },
  {
   "cell_type": "code",
   "execution_count": 59,
   "metadata": {},
   "outputs": [
    {
     "data": {
      "text/plain": [
       "\n",
       "\tPaired t-test\n",
       "\n",
       "data:  Q7 and Q8\n",
       "t = 3.8108, df = 503, p-value = 0.0001557\n",
       "alternative hypothesis: true difference in means is not equal to 0\n",
       "99 percent confidence interval:\n",
       " 0.04210116 0.21980360\n",
       "sample estimates:\n",
       "mean of the differences \n",
       "              0.1309524 \n"
      ]
     },
     "metadata": {},
     "output_type": "display_data"
    }
   ],
   "source": [
    "t.test(Q7, Q8, mu=0, alt=\"two.sided\", paired=T, conf.level=0.99)"
   ]
  },
  {
   "cell_type": "code",
   "execution_count": 60,
   "metadata": {},
   "outputs": [
    {
     "data": {
      "text/plain": [
       "\n",
       "\tPaired t-test\n",
       "\n",
       "data:  Q7 and Q9\n",
       "t = 13.986, df = 503, p-value < 2.2e-16\n",
       "alternative hypothesis: true difference in means is not equal to 0\n",
       "99 percent confidence interval:\n",
       " 0.4431451 0.6441564\n",
       "sample estimates:\n",
       "mean of the differences \n",
       "              0.5436508 \n"
      ]
     },
     "metadata": {},
     "output_type": "display_data"
    }
   ],
   "source": [
    "t.test(Q7, Q9, mu=0, alt=\"two.sided\", paired=T, conf.level=0.99)"
   ]
  },
  {
   "cell_type": "code",
   "execution_count": 61,
   "metadata": {},
   "outputs": [
    {
     "data": {
      "text/plain": [
       "\n",
       "\tPaired t-test\n",
       "\n",
       "data:  Q7 and Q10\n",
       "t = 15.13, df = 503, p-value < 2.2e-16\n",
       "alternative hypothesis: true difference in means is not equal to 0\n",
       "99 percent confidence interval:\n",
       " 0.5033870 0.7108987\n",
       "sample estimates:\n",
       "mean of the differences \n",
       "              0.6071429 \n"
      ]
     },
     "metadata": {},
     "output_type": "display_data"
    }
   ],
   "source": [
    "t.test(Q7, Q10, mu=0, alt=\"two.sided\", paired=T, conf.level=0.99)"
   ]
  },
  {
   "cell_type": "code",
   "execution_count": 62,
   "metadata": {},
   "outputs": [
    {
     "data": {
      "text/plain": [
       "\n",
       "\tPaired t-test\n",
       "\n",
       "data:  Q8 and Q9\n",
       "t = 11.201, df = 503, p-value < 2.2e-16\n",
       "alternative hypothesis: true difference in means is not equal to 0\n",
       "99 percent confidence interval:\n",
       " 0.3174302 0.5079666\n",
       "sample estimates:\n",
       "mean of the differences \n",
       "              0.4126984 \n"
      ]
     },
     "metadata": {},
     "output_type": "display_data"
    }
   ],
   "source": [
    "t.test(Q8, Q9, mu=0, alt=\"two.sided\", paired=T, conf.level=0.99)"
   ]
  },
  {
   "cell_type": "code",
   "execution_count": 63,
   "metadata": {},
   "outputs": [
    {
     "data": {
      "text/plain": [
       "\n",
       "\tPaired t-test\n",
       "\n",
       "data:  Q8 and Q10\n",
       "t = 13.164, df = 503, p-value < 2.2e-16\n",
       "alternative hypothesis: true difference in means is not equal to 0\n",
       "99 percent confidence interval:\n",
       " 0.3826605 0.5697204\n",
       "sample estimates:\n",
       "mean of the differences \n",
       "              0.4761905 \n"
      ]
     },
     "metadata": {},
     "output_type": "display_data"
    }
   ],
   "source": [
    "t.test(Q8, Q10, mu=0, alt=\"two.sided\", paired=T, conf.level=0.99)"
   ]
  },
  {
   "cell_type": "code",
   "execution_count": 64,
   "metadata": {},
   "outputs": [
    {
     "data": {
      "text/plain": [
       "\n",
       "\tPaired t-test\n",
       "\n",
       "data:  Q9 and Q10\n",
       "t = 1.6575, df = 503, p-value = 0.09803\n",
       "alternative hypothesis: true difference in means is not equal to 0\n",
       "99 percent confidence interval:\n",
       " -0.03555042  0.16253455\n",
       "sample estimates:\n",
       "mean of the differences \n",
       "             0.06349206 \n"
      ]
     },
     "metadata": {},
     "output_type": "display_data"
    }
   ],
   "source": [
    "t.test(Q9, Q10, mu=0, alt=\"two.sided\", paired=T, conf.level=0.99)"
   ]
  },
  {
   "cell_type": "markdown",
   "metadata": {},
   "source": [
    "## Principal Component Analysis"
   ]
  },
  {
   "cell_type": "code",
   "execution_count": 66,
   "metadata": {},
   "outputs": [],
   "source": [
    "mydata<-read.csv('dataresponn.csv')"
   ]
  },
  {
   "cell_type": "code",
   "execution_count": 67,
   "metadata": {},
   "outputs": [
    {
     "data": {
      "text/html": [
       "<table>\n",
       "<thead><tr><th scope=col>Q1</th><th scope=col>Q2</th><th scope=col>Q3</th><th scope=col>Q4</th><th scope=col>Q5</th><th scope=col>Q6</th><th scope=col>Q7</th><th scope=col>Q8</th><th scope=col>Q9</th><th scope=col>Q10</th><th scope=col>Q11</th></tr></thead>\n",
       "<tbody>\n",
       "\t<tr><td>1</td><td>5</td><td>4</td><td>5</td><td>4</td><td>5</td><td>5</td><td>5</td><td>4</td><td>5</td><td>4</td></tr>\n",
       "\t<tr><td>3</td><td>4</td><td>5</td><td>3</td><td>2</td><td>5</td><td>5</td><td>4</td><td>4</td><td>3</td><td>3</td></tr>\n",
       "\t<tr><td>1</td><td>4</td><td>3</td><td>4</td><td>3</td><td>4</td><td>5</td><td>5</td><td>4</td><td>3</td><td>2</td></tr>\n",
       "\t<tr><td>4</td><td>5</td><td>3</td><td>2</td><td>3</td><td>2</td><td>5</td><td>4</td><td>4</td><td>4</td><td>5</td></tr>\n",
       "\t<tr><td>4</td><td>3</td><td>4</td><td>2</td><td>2</td><td>4</td><td>5</td><td>4</td><td>4</td><td>4</td><td>5</td></tr>\n",
       "\t<tr><td>1</td><td>4</td><td>3</td><td>4</td><td>4</td><td>4</td><td>5</td><td>3</td><td>3</td><td>4</td><td>4</td></tr>\n",
       "\t<tr><td>4</td><td>4</td><td>5</td><td>2</td><td>1</td><td>4</td><td>5</td><td>5</td><td>5</td><td>5</td><td>5</td></tr>\n",
       "\t<tr><td>3</td><td>5</td><td>2</td><td>3</td><td>2</td><td>5</td><td>5</td><td>4</td><td>2</td><td>4</td><td>4</td></tr>\n",
       "\t<tr><td>1</td><td>3</td><td>3</td><td>3</td><td>3</td><td>3</td><td>3</td><td>3</td><td>3</td><td>3</td><td>3</td></tr>\n",
       "\t<tr><td>2</td><td>4</td><td>5</td><td>4</td><td>2</td><td>4</td><td>4</td><td>4</td><td>3</td><td>5</td><td>4</td></tr>\n",
       "\t<tr><td>1</td><td>4</td><td>4</td><td>2</td><td>1</td><td>2</td><td>4</td><td>5</td><td>2</td><td>4</td><td>4</td></tr>\n",
       "\t<tr><td>4</td><td>5</td><td>5</td><td>5</td><td>2</td><td>4</td><td>4</td><td>5</td><td>5</td><td>4</td><td>5</td></tr>\n",
       "\t<tr><td>2</td><td>4</td><td>4</td><td>4</td><td>2</td><td>2</td><td>5</td><td>5</td><td>4</td><td>4</td><td>4</td></tr>\n",
       "\t<tr><td>1</td><td>4</td><td>4</td><td>4</td><td>3</td><td>2</td><td>4</td><td>4</td><td>4</td><td>4</td><td>5</td></tr>\n",
       "\t<tr><td>2</td><td>5</td><td>4</td><td>3</td><td>2</td><td>4</td><td>5</td><td>4</td><td>4</td><td>3</td><td>4</td></tr>\n",
       "\t<tr><td>3</td><td>5</td><td>4</td><td>4</td><td>2</td><td>4</td><td>4</td><td>5</td><td>4</td><td>4</td><td>5</td></tr>\n",
       "\t<tr><td>2</td><td>2</td><td>3</td><td>4</td><td>1</td><td>2</td><td>5</td><td>5</td><td>4</td><td>5</td><td>5</td></tr>\n",
       "\t<tr><td>2</td><td>5</td><td>5</td><td>4</td><td>3</td><td>3</td><td>4</td><td>4</td><td>4</td><td>3</td><td>4</td></tr>\n",
       "\t<tr><td>4</td><td>4</td><td>4</td><td>5</td><td>2</td><td>2</td><td>5</td><td>5</td><td>3</td><td>4</td><td>5</td></tr>\n",
       "\t<tr><td>3</td><td>4</td><td>4</td><td>4</td><td>2</td><td>3</td><td>4</td><td>5</td><td>4</td><td>4</td><td>4</td></tr>\n",
       "\t<tr><td>2</td><td>4</td><td>4</td><td>5</td><td>2</td><td>4</td><td>4</td><td>4</td><td>4</td><td>3</td><td>3</td></tr>\n",
       "\t<tr><td>1</td><td>4</td><td>3</td><td>2</td><td>4</td><td>4</td><td>4</td><td>3</td><td>3</td><td>4</td><td>4</td></tr>\n",
       "\t<tr><td>4</td><td>4</td><td>4</td><td>4</td><td>3</td><td>2</td><td>5</td><td>5</td><td>4</td><td>5</td><td>5</td></tr>\n",
       "\t<tr><td>3</td><td>4</td><td>3</td><td>2</td><td>2</td><td>4</td><td>4</td><td>4</td><td>4</td><td>3</td><td>4</td></tr>\n",
       "\t<tr><td>3</td><td>4</td><td>4</td><td>3</td><td>2</td><td>3</td><td>4</td><td>4</td><td>3</td><td>3</td><td>4</td></tr>\n",
       "\t<tr><td>1</td><td>4</td><td>2</td><td>3</td><td>4</td><td>4</td><td>4</td><td>4</td><td>4</td><td>4</td><td>4</td></tr>\n",
       "\t<tr><td>5</td><td>5</td><td>5</td><td>5</td><td>5</td><td>5</td><td>5</td><td>5</td><td>5</td><td>5</td><td>5</td></tr>\n",
       "\t<tr><td>4</td><td>5</td><td>3</td><td>4</td><td>4</td><td>5</td><td>5</td><td>5</td><td>3</td><td>4</td><td>5</td></tr>\n",
       "\t<tr><td>3</td><td>4</td><td>3</td><td>4</td><td>3</td><td>4</td><td>5</td><td>5</td><td>5</td><td>3</td><td>4</td></tr>\n",
       "\t<tr><td>2</td><td>2</td><td>5</td><td>4</td><td>1</td><td>4</td><td>5</td><td>2</td><td>4</td><td>3</td><td>5</td></tr>\n",
       "\t<tr><td>...</td><td>...</td><td>...</td><td>...</td><td>...</td><td>...</td><td>...</td><td>...</td><td>...</td><td>...</td><td>...</td></tr>\n",
       "\t<tr><td>3</td><td>4</td><td>5</td><td>3</td><td>2</td><td>3</td><td>5</td><td>5</td><td>4</td><td>4</td><td>5</td></tr>\n",
       "\t<tr><td>3</td><td>5</td><td>5</td><td>5</td><td>2</td><td>5</td><td>5</td><td>5</td><td>5</td><td>5</td><td>4</td></tr>\n",
       "\t<tr><td>2</td><td>4</td><td>4</td><td>4</td><td>2</td><td>2</td><td>4</td><td>5</td><td>4</td><td>3</td><td>5</td></tr>\n",
       "\t<tr><td>3</td><td>3</td><td>4</td><td>4</td><td>4</td><td>5</td><td>5</td><td>5</td><td>4</td><td>4</td><td>3</td></tr>\n",
       "\t<tr><td>3</td><td>3</td><td>4</td><td>5</td><td>2</td><td>4</td><td>4</td><td>4</td><td>4</td><td>4</td><td>5</td></tr>\n",
       "\t<tr><td>1</td><td>3</td><td>4</td><td>4</td><td>3</td><td>4</td><td>4</td><td>4</td><td>4</td><td>2</td><td>5</td></tr>\n",
       "\t<tr><td>5</td><td>3</td><td>5</td><td>4</td><td>3</td><td>5</td><td>4</td><td>4</td><td>4</td><td>3</td><td>4</td></tr>\n",
       "\t<tr><td>2</td><td>4</td><td>5</td><td>4</td><td>2</td><td>4</td><td>5</td><td>4</td><td>4</td><td>4</td><td>4</td></tr>\n",
       "\t<tr><td>2</td><td>4</td><td>4</td><td>4</td><td>2</td><td>3</td><td>5</td><td>5</td><td>4</td><td>4</td><td>5</td></tr>\n",
       "\t<tr><td>1</td><td>4</td><td>5</td><td>4</td><td>2</td><td>4</td><td>4</td><td>5</td><td>4</td><td>3</td><td>5</td></tr>\n",
       "\t<tr><td>2</td><td>4</td><td>3</td><td>4</td><td>3</td><td>4</td><td>4</td><td>4</td><td>4</td><td>4</td><td>4</td></tr>\n",
       "\t<tr><td>2</td><td>4</td><td>3</td><td>4</td><td>3</td><td>3</td><td>4</td><td>4</td><td>4</td><td>3</td><td>4</td></tr>\n",
       "\t<tr><td>1</td><td>2</td><td>3</td><td>3</td><td>3</td><td>2</td><td>5</td><td>5</td><td>5</td><td>5</td><td>5</td></tr>\n",
       "\t<tr><td>2</td><td>4</td><td>3</td><td>4</td><td>3</td><td>4</td><td>4</td><td>4</td><td>4</td><td>4</td><td>5</td></tr>\n",
       "\t<tr><td>4</td><td>4</td><td>3</td><td>4</td><td>4</td><td>2</td><td>5</td><td>5</td><td>4</td><td>4</td><td>4</td></tr>\n",
       "\t<tr><td>4</td><td>4</td><td>5</td><td>4</td><td>2</td><td>4</td><td>4</td><td>4</td><td>4</td><td>4</td><td>4</td></tr>\n",
       "\t<tr><td>3</td><td>4</td><td>3</td><td>4</td><td>2</td><td>2</td><td>4</td><td>4</td><td>3</td><td>3</td><td>4</td></tr>\n",
       "\t<tr><td>1</td><td>4</td><td>4</td><td>3</td><td>2</td><td>2</td><td>4</td><td>4</td><td>4</td><td>4</td><td>4</td></tr>\n",
       "\t<tr><td>3</td><td>4</td><td>5</td><td>4</td><td>2</td><td>4</td><td>4</td><td>4</td><td>5</td><td>4</td><td>4</td></tr>\n",
       "\t<tr><td>4</td><td>4</td><td>3</td><td>4</td><td>3</td><td>4</td><td>4</td><td>4</td><td>5</td><td>4</td><td>4</td></tr>\n",
       "\t<tr><td>5</td><td>3</td><td>3</td><td>4</td><td>3</td><td>5</td><td>5</td><td>5</td><td>3</td><td>2</td><td>4</td></tr>\n",
       "\t<tr><td>4</td><td>4</td><td>2</td><td>3</td><td>2</td><td>2</td><td>5</td><td>5</td><td>2</td><td>4</td><td>5</td></tr>\n",
       "\t<tr><td>4</td><td>4</td><td>3</td><td>4</td><td>1</td><td>3</td><td>5</td><td>5</td><td>4</td><td>4</td><td>4</td></tr>\n",
       "\t<tr><td>4</td><td>3</td><td>4</td><td>4</td><td>2</td><td>2</td><td>4</td><td>4</td><td>3</td><td>3</td><td>5</td></tr>\n",
       "\t<tr><td>4</td><td>5</td><td>5</td><td>2</td><td>1</td><td>4</td><td>5</td><td>4</td><td>4</td><td>5</td><td>4</td></tr>\n",
       "\t<tr><td>2</td><td>4</td><td>3</td><td>2</td><td>2</td><td>3</td><td>4</td><td>4</td><td>3</td><td>3</td><td>5</td></tr>\n",
       "\t<tr><td>3</td><td>3</td><td>4</td><td>4</td><td>2</td><td>5</td><td>4</td><td>5</td><td>5</td><td>5</td><td>4</td></tr>\n",
       "\t<tr><td>4</td><td>4</td><td>5</td><td>5</td><td>2</td><td>2</td><td>5</td><td>4</td><td>4</td><td>4</td><td>5</td></tr>\n",
       "\t<tr><td>1</td><td>3</td><td>3</td><td>4</td><td>4</td><td>4</td><td>5</td><td>5</td><td>5</td><td>3</td><td>5</td></tr>\n",
       "\t<tr><td>2</td><td>4</td><td>4</td><td>3</td><td>2</td><td>3</td><td>5</td><td>5</td><td>3</td><td>3</td><td>4</td></tr>\n",
       "</tbody>\n",
       "</table>\n"
      ],
      "text/latex": [
       "\\begin{tabular}{r|lllllllllll}\n",
       " Q1 & Q2 & Q3 & Q4 & Q5 & Q6 & Q7 & Q8 & Q9 & Q10 & Q11\\\\\n",
       "\\hline\n",
       "\t 1 & 5 & 4 & 5 & 4 & 5 & 5 & 5 & 4 & 5 & 4\\\\\n",
       "\t 3 & 4 & 5 & 3 & 2 & 5 & 5 & 4 & 4 & 3 & 3\\\\\n",
       "\t 1 & 4 & 3 & 4 & 3 & 4 & 5 & 5 & 4 & 3 & 2\\\\\n",
       "\t 4 & 5 & 3 & 2 & 3 & 2 & 5 & 4 & 4 & 4 & 5\\\\\n",
       "\t 4 & 3 & 4 & 2 & 2 & 4 & 5 & 4 & 4 & 4 & 5\\\\\n",
       "\t 1 & 4 & 3 & 4 & 4 & 4 & 5 & 3 & 3 & 4 & 4\\\\\n",
       "\t 4 & 4 & 5 & 2 & 1 & 4 & 5 & 5 & 5 & 5 & 5\\\\\n",
       "\t 3 & 5 & 2 & 3 & 2 & 5 & 5 & 4 & 2 & 4 & 4\\\\\n",
       "\t 1 & 3 & 3 & 3 & 3 & 3 & 3 & 3 & 3 & 3 & 3\\\\\n",
       "\t 2 & 4 & 5 & 4 & 2 & 4 & 4 & 4 & 3 & 5 & 4\\\\\n",
       "\t 1 & 4 & 4 & 2 & 1 & 2 & 4 & 5 & 2 & 4 & 4\\\\\n",
       "\t 4 & 5 & 5 & 5 & 2 & 4 & 4 & 5 & 5 & 4 & 5\\\\\n",
       "\t 2 & 4 & 4 & 4 & 2 & 2 & 5 & 5 & 4 & 4 & 4\\\\\n",
       "\t 1 & 4 & 4 & 4 & 3 & 2 & 4 & 4 & 4 & 4 & 5\\\\\n",
       "\t 2 & 5 & 4 & 3 & 2 & 4 & 5 & 4 & 4 & 3 & 4\\\\\n",
       "\t 3 & 5 & 4 & 4 & 2 & 4 & 4 & 5 & 4 & 4 & 5\\\\\n",
       "\t 2 & 2 & 3 & 4 & 1 & 2 & 5 & 5 & 4 & 5 & 5\\\\\n",
       "\t 2 & 5 & 5 & 4 & 3 & 3 & 4 & 4 & 4 & 3 & 4\\\\\n",
       "\t 4 & 4 & 4 & 5 & 2 & 2 & 5 & 5 & 3 & 4 & 5\\\\\n",
       "\t 3 & 4 & 4 & 4 & 2 & 3 & 4 & 5 & 4 & 4 & 4\\\\\n",
       "\t 2 & 4 & 4 & 5 & 2 & 4 & 4 & 4 & 4 & 3 & 3\\\\\n",
       "\t 1 & 4 & 3 & 2 & 4 & 4 & 4 & 3 & 3 & 4 & 4\\\\\n",
       "\t 4 & 4 & 4 & 4 & 3 & 2 & 5 & 5 & 4 & 5 & 5\\\\\n",
       "\t 3 & 4 & 3 & 2 & 2 & 4 & 4 & 4 & 4 & 3 & 4\\\\\n",
       "\t 3 & 4 & 4 & 3 & 2 & 3 & 4 & 4 & 3 & 3 & 4\\\\\n",
       "\t 1 & 4 & 2 & 3 & 4 & 4 & 4 & 4 & 4 & 4 & 4\\\\\n",
       "\t 5 & 5 & 5 & 5 & 5 & 5 & 5 & 5 & 5 & 5 & 5\\\\\n",
       "\t 4 & 5 & 3 & 4 & 4 & 5 & 5 & 5 & 3 & 4 & 5\\\\\n",
       "\t 3 & 4 & 3 & 4 & 3 & 4 & 5 & 5 & 5 & 3 & 4\\\\\n",
       "\t 2 & 2 & 5 & 4 & 1 & 4 & 5 & 2 & 4 & 3 & 5\\\\\n",
       "\t ... & ... & ... & ... & ... & ... & ... & ... & ... & ... & ...\\\\\n",
       "\t 3 & 4 & 5 & 3 & 2 & 3 & 5 & 5 & 4 & 4 & 5\\\\\n",
       "\t 3 & 5 & 5 & 5 & 2 & 5 & 5 & 5 & 5 & 5 & 4\\\\\n",
       "\t 2 & 4 & 4 & 4 & 2 & 2 & 4 & 5 & 4 & 3 & 5\\\\\n",
       "\t 3 & 3 & 4 & 4 & 4 & 5 & 5 & 5 & 4 & 4 & 3\\\\\n",
       "\t 3 & 3 & 4 & 5 & 2 & 4 & 4 & 4 & 4 & 4 & 5\\\\\n",
       "\t 1 & 3 & 4 & 4 & 3 & 4 & 4 & 4 & 4 & 2 & 5\\\\\n",
       "\t 5 & 3 & 5 & 4 & 3 & 5 & 4 & 4 & 4 & 3 & 4\\\\\n",
       "\t 2 & 4 & 5 & 4 & 2 & 4 & 5 & 4 & 4 & 4 & 4\\\\\n",
       "\t 2 & 4 & 4 & 4 & 2 & 3 & 5 & 5 & 4 & 4 & 5\\\\\n",
       "\t 1 & 4 & 5 & 4 & 2 & 4 & 4 & 5 & 4 & 3 & 5\\\\\n",
       "\t 2 & 4 & 3 & 4 & 3 & 4 & 4 & 4 & 4 & 4 & 4\\\\\n",
       "\t 2 & 4 & 3 & 4 & 3 & 3 & 4 & 4 & 4 & 3 & 4\\\\\n",
       "\t 1 & 2 & 3 & 3 & 3 & 2 & 5 & 5 & 5 & 5 & 5\\\\\n",
       "\t 2 & 4 & 3 & 4 & 3 & 4 & 4 & 4 & 4 & 4 & 5\\\\\n",
       "\t 4 & 4 & 3 & 4 & 4 & 2 & 5 & 5 & 4 & 4 & 4\\\\\n",
       "\t 4 & 4 & 5 & 4 & 2 & 4 & 4 & 4 & 4 & 4 & 4\\\\\n",
       "\t 3 & 4 & 3 & 4 & 2 & 2 & 4 & 4 & 3 & 3 & 4\\\\\n",
       "\t 1 & 4 & 4 & 3 & 2 & 2 & 4 & 4 & 4 & 4 & 4\\\\\n",
       "\t 3 & 4 & 5 & 4 & 2 & 4 & 4 & 4 & 5 & 4 & 4\\\\\n",
       "\t 4 & 4 & 3 & 4 & 3 & 4 & 4 & 4 & 5 & 4 & 4\\\\\n",
       "\t 5 & 3 & 3 & 4 & 3 & 5 & 5 & 5 & 3 & 2 & 4\\\\\n",
       "\t 4 & 4 & 2 & 3 & 2 & 2 & 5 & 5 & 2 & 4 & 5\\\\\n",
       "\t 4 & 4 & 3 & 4 & 1 & 3 & 5 & 5 & 4 & 4 & 4\\\\\n",
       "\t 4 & 3 & 4 & 4 & 2 & 2 & 4 & 4 & 3 & 3 & 5\\\\\n",
       "\t 4 & 5 & 5 & 2 & 1 & 4 & 5 & 4 & 4 & 5 & 4\\\\\n",
       "\t 2 & 4 & 3 & 2 & 2 & 3 & 4 & 4 & 3 & 3 & 5\\\\\n",
       "\t 3 & 3 & 4 & 4 & 2 & 5 & 4 & 5 & 5 & 5 & 4\\\\\n",
       "\t 4 & 4 & 5 & 5 & 2 & 2 & 5 & 4 & 4 & 4 & 5\\\\\n",
       "\t 1 & 3 & 3 & 4 & 4 & 4 & 5 & 5 & 5 & 3 & 5\\\\\n",
       "\t 2 & 4 & 4 & 3 & 2 & 3 & 5 & 5 & 3 & 3 & 4\\\\\n",
       "\\end{tabular}\n"
      ],
      "text/markdown": [
       "\n",
       "| Q1 | Q2 | Q3 | Q4 | Q5 | Q6 | Q7 | Q8 | Q9 | Q10 | Q11 |\n",
       "|---|---|---|---|---|---|---|---|---|---|---|\n",
       "| 1 | 5 | 4 | 5 | 4 | 5 | 5 | 5 | 4 | 5 | 4 |\n",
       "| 3 | 4 | 5 | 3 | 2 | 5 | 5 | 4 | 4 | 3 | 3 |\n",
       "| 1 | 4 | 3 | 4 | 3 | 4 | 5 | 5 | 4 | 3 | 2 |\n",
       "| 4 | 5 | 3 | 2 | 3 | 2 | 5 | 4 | 4 | 4 | 5 |\n",
       "| 4 | 3 | 4 | 2 | 2 | 4 | 5 | 4 | 4 | 4 | 5 |\n",
       "| 1 | 4 | 3 | 4 | 4 | 4 | 5 | 3 | 3 | 4 | 4 |\n",
       "| 4 | 4 | 5 | 2 | 1 | 4 | 5 | 5 | 5 | 5 | 5 |\n",
       "| 3 | 5 | 2 | 3 | 2 | 5 | 5 | 4 | 2 | 4 | 4 |\n",
       "| 1 | 3 | 3 | 3 | 3 | 3 | 3 | 3 | 3 | 3 | 3 |\n",
       "| 2 | 4 | 5 | 4 | 2 | 4 | 4 | 4 | 3 | 5 | 4 |\n",
       "| 1 | 4 | 4 | 2 | 1 | 2 | 4 | 5 | 2 | 4 | 4 |\n",
       "| 4 | 5 | 5 | 5 | 2 | 4 | 4 | 5 | 5 | 4 | 5 |\n",
       "| 2 | 4 | 4 | 4 | 2 | 2 | 5 | 5 | 4 | 4 | 4 |\n",
       "| 1 | 4 | 4 | 4 | 3 | 2 | 4 | 4 | 4 | 4 | 5 |\n",
       "| 2 | 5 | 4 | 3 | 2 | 4 | 5 | 4 | 4 | 3 | 4 |\n",
       "| 3 | 5 | 4 | 4 | 2 | 4 | 4 | 5 | 4 | 4 | 5 |\n",
       "| 2 | 2 | 3 | 4 | 1 | 2 | 5 | 5 | 4 | 5 | 5 |\n",
       "| 2 | 5 | 5 | 4 | 3 | 3 | 4 | 4 | 4 | 3 | 4 |\n",
       "| 4 | 4 | 4 | 5 | 2 | 2 | 5 | 5 | 3 | 4 | 5 |\n",
       "| 3 | 4 | 4 | 4 | 2 | 3 | 4 | 5 | 4 | 4 | 4 |\n",
       "| 2 | 4 | 4 | 5 | 2 | 4 | 4 | 4 | 4 | 3 | 3 |\n",
       "| 1 | 4 | 3 | 2 | 4 | 4 | 4 | 3 | 3 | 4 | 4 |\n",
       "| 4 | 4 | 4 | 4 | 3 | 2 | 5 | 5 | 4 | 5 | 5 |\n",
       "| 3 | 4 | 3 | 2 | 2 | 4 | 4 | 4 | 4 | 3 | 4 |\n",
       "| 3 | 4 | 4 | 3 | 2 | 3 | 4 | 4 | 3 | 3 | 4 |\n",
       "| 1 | 4 | 2 | 3 | 4 | 4 | 4 | 4 | 4 | 4 | 4 |\n",
       "| 5 | 5 | 5 | 5 | 5 | 5 | 5 | 5 | 5 | 5 | 5 |\n",
       "| 4 | 5 | 3 | 4 | 4 | 5 | 5 | 5 | 3 | 4 | 5 |\n",
       "| 3 | 4 | 3 | 4 | 3 | 4 | 5 | 5 | 5 | 3 | 4 |\n",
       "| 2 | 2 | 5 | 4 | 1 | 4 | 5 | 2 | 4 | 3 | 5 |\n",
       "| ... | ... | ... | ... | ... | ... | ... | ... | ... | ... | ... |\n",
       "| 3 | 4 | 5 | 3 | 2 | 3 | 5 | 5 | 4 | 4 | 5 |\n",
       "| 3 | 5 | 5 | 5 | 2 | 5 | 5 | 5 | 5 | 5 | 4 |\n",
       "| 2 | 4 | 4 | 4 | 2 | 2 | 4 | 5 | 4 | 3 | 5 |\n",
       "| 3 | 3 | 4 | 4 | 4 | 5 | 5 | 5 | 4 | 4 | 3 |\n",
       "| 3 | 3 | 4 | 5 | 2 | 4 | 4 | 4 | 4 | 4 | 5 |\n",
       "| 1 | 3 | 4 | 4 | 3 | 4 | 4 | 4 | 4 | 2 | 5 |\n",
       "| 5 | 3 | 5 | 4 | 3 | 5 | 4 | 4 | 4 | 3 | 4 |\n",
       "| 2 | 4 | 5 | 4 | 2 | 4 | 5 | 4 | 4 | 4 | 4 |\n",
       "| 2 | 4 | 4 | 4 | 2 | 3 | 5 | 5 | 4 | 4 | 5 |\n",
       "| 1 | 4 | 5 | 4 | 2 | 4 | 4 | 5 | 4 | 3 | 5 |\n",
       "| 2 | 4 | 3 | 4 | 3 | 4 | 4 | 4 | 4 | 4 | 4 |\n",
       "| 2 | 4 | 3 | 4 | 3 | 3 | 4 | 4 | 4 | 3 | 4 |\n",
       "| 1 | 2 | 3 | 3 | 3 | 2 | 5 | 5 | 5 | 5 | 5 |\n",
       "| 2 | 4 | 3 | 4 | 3 | 4 | 4 | 4 | 4 | 4 | 5 |\n",
       "| 4 | 4 | 3 | 4 | 4 | 2 | 5 | 5 | 4 | 4 | 4 |\n",
       "| 4 | 4 | 5 | 4 | 2 | 4 | 4 | 4 | 4 | 4 | 4 |\n",
       "| 3 | 4 | 3 | 4 | 2 | 2 | 4 | 4 | 3 | 3 | 4 |\n",
       "| 1 | 4 | 4 | 3 | 2 | 2 | 4 | 4 | 4 | 4 | 4 |\n",
       "| 3 | 4 | 5 | 4 | 2 | 4 | 4 | 4 | 5 | 4 | 4 |\n",
       "| 4 | 4 | 3 | 4 | 3 | 4 | 4 | 4 | 5 | 4 | 4 |\n",
       "| 5 | 3 | 3 | 4 | 3 | 5 | 5 | 5 | 3 | 2 | 4 |\n",
       "| 4 | 4 | 2 | 3 | 2 | 2 | 5 | 5 | 2 | 4 | 5 |\n",
       "| 4 | 4 | 3 | 4 | 1 | 3 | 5 | 5 | 4 | 4 | 4 |\n",
       "| 4 | 3 | 4 | 4 | 2 | 2 | 4 | 4 | 3 | 3 | 5 |\n",
       "| 4 | 5 | 5 | 2 | 1 | 4 | 5 | 4 | 4 | 5 | 4 |\n",
       "| 2 | 4 | 3 | 2 | 2 | 3 | 4 | 4 | 3 | 3 | 5 |\n",
       "| 3 | 3 | 4 | 4 | 2 | 5 | 4 | 5 | 5 | 5 | 4 |\n",
       "| 4 | 4 | 5 | 5 | 2 | 2 | 5 | 4 | 4 | 4 | 5 |\n",
       "| 1 | 3 | 3 | 4 | 4 | 4 | 5 | 5 | 5 | 3 | 5 |\n",
       "| 2 | 4 | 4 | 3 | 2 | 3 | 5 | 5 | 3 | 3 | 4 |\n",
       "\n"
      ],
      "text/plain": [
       "    Q1  Q2  Q3  Q4  Q5  Q6  Q7  Q8  Q9  Q10 Q11\n",
       "1   1   5   4   5   4   5   5   5   4   5   4  \n",
       "2   3   4   5   3   2   5   5   4   4   3   3  \n",
       "3   1   4   3   4   3   4   5   5   4   3   2  \n",
       "4   4   5   3   2   3   2   5   4   4   4   5  \n",
       "5   4   3   4   2   2   4   5   4   4   4   5  \n",
       "6   1   4   3   4   4   4   5   3   3   4   4  \n",
       "7   4   4   5   2   1   4   5   5   5   5   5  \n",
       "8   3   5   2   3   2   5   5   4   2   4   4  \n",
       "9   1   3   3   3   3   3   3   3   3   3   3  \n",
       "10  2   4   5   4   2   4   4   4   3   5   4  \n",
       "11  1   4   4   2   1   2   4   5   2   4   4  \n",
       "12  4   5   5   5   2   4   4   5   5   4   5  \n",
       "13  2   4   4   4   2   2   5   5   4   4   4  \n",
       "14  1   4   4   4   3   2   4   4   4   4   5  \n",
       "15  2   5   4   3   2   4   5   4   4   3   4  \n",
       "16  3   5   4   4   2   4   4   5   4   4   5  \n",
       "17  2   2   3   4   1   2   5   5   4   5   5  \n",
       "18  2   5   5   4   3   3   4   4   4   3   4  \n",
       "19  4   4   4   5   2   2   5   5   3   4   5  \n",
       "20  3   4   4   4   2   3   4   5   4   4   4  \n",
       "21  2   4   4   5   2   4   4   4   4   3   3  \n",
       "22  1   4   3   2   4   4   4   3   3   4   4  \n",
       "23  4   4   4   4   3   2   5   5   4   5   5  \n",
       "24  3   4   3   2   2   4   4   4   4   3   4  \n",
       "25  3   4   4   3   2   3   4   4   3   3   4  \n",
       "26  1   4   2   3   4   4   4   4   4   4   4  \n",
       "27  5   5   5   5   5   5   5   5   5   5   5  \n",
       "28  4   5   3   4   4   5   5   5   3   4   5  \n",
       "29  3   4   3   4   3   4   5   5   5   3   4  \n",
       "30  2   2   5   4   1   4   5   2   4   3   5  \n",
       "... ... ... ... ... ... ... ... ... ... ... ...\n",
       "475 3   4   5   3   2   3   5   5   4   4   5  \n",
       "476 3   5   5   5   2   5   5   5   5   5   4  \n",
       "477 2   4   4   4   2   2   4   5   4   3   5  \n",
       "478 3   3   4   4   4   5   5   5   4   4   3  \n",
       "479 3   3   4   5   2   4   4   4   4   4   5  \n",
       "480 1   3   4   4   3   4   4   4   4   2   5  \n",
       "481 5   3   5   4   3   5   4   4   4   3   4  \n",
       "482 2   4   5   4   2   4   5   4   4   4   4  \n",
       "483 2   4   4   4   2   3   5   5   4   4   5  \n",
       "484 1   4   5   4   2   4   4   5   4   3   5  \n",
       "485 2   4   3   4   3   4   4   4   4   4   4  \n",
       "486 2   4   3   4   3   3   4   4   4   3   4  \n",
       "487 1   2   3   3   3   2   5   5   5   5   5  \n",
       "488 2   4   3   4   3   4   4   4   4   4   5  \n",
       "489 4   4   3   4   4   2   5   5   4   4   4  \n",
       "490 4   4   5   4   2   4   4   4   4   4   4  \n",
       "491 3   4   3   4   2   2   4   4   3   3   4  \n",
       "492 1   4   4   3   2   2   4   4   4   4   4  \n",
       "493 3   4   5   4   2   4   4   4   5   4   4  \n",
       "494 4   4   3   4   3   4   4   4   5   4   4  \n",
       "495 5   3   3   4   3   5   5   5   3   2   4  \n",
       "496 4   4   2   3   2   2   5   5   2   4   5  \n",
       "497 4   4   3   4   1   3   5   5   4   4   4  \n",
       "498 4   3   4   4   2   2   4   4   3   3   5  \n",
       "499 4   5   5   2   1   4   5   4   4   5   4  \n",
       "500 2   4   3   2   2   3   4   4   3   3   5  \n",
       "501 3   3   4   4   2   5   4   5   5   5   4  \n",
       "502 4   4   5   5   2   2   5   4   4   4   5  \n",
       "503 1   3   3   4   4   4   5   5   5   3   5  \n",
       "504 2   4   4   3   2   3   5   5   3   3   4  "
      ]
     },
     "metadata": {},
     "output_type": "display_data"
    }
   ],
   "source": [
    "mydata"
   ]
  },
  {
   "cell_type": "code",
   "execution_count": 68,
   "metadata": {},
   "outputs": [
    {
     "name": "stderr",
     "output_type": "stream",
     "text": [
      "The following objects are masked from mydata (pos = 3):\n",
      "\n",
      "    Q1, Q10, Q11, Q2, Q3, Q4, Q5, Q6, Q7, Q8, Q9\n",
      "\n"
     ]
    }
   ],
   "source": [
    "attach(mydata)"
   ]
  },
  {
   "cell_type": "code",
   "execution_count": 69,
   "metadata": {},
   "outputs": [],
   "source": [
    "# Define Variables\n",
    "x<- cbind(Q1,Q2,Q3,Q4,Q5,Q6,Q7,Q8,Q9,Q10,Q11)"
   ]
  },
  {
   "cell_type": "code",
   "execution_count": 70,
   "metadata": {},
   "outputs": [
    {
     "data": {
      "text/plain": [
       "       Q1              Q2              Q3              Q4       \n",
       " Min.   :1.000   Min.   :1.000   Min.   :1.000   Min.   :1.000  \n",
       " 1st Qu.:2.000   1st Qu.:4.000   1st Qu.:3.000   1st Qu.:3.000  \n",
       " Median :2.000   Median :4.000   Median :4.000   Median :4.000  \n",
       " Mean   :2.637   Mean   :3.879   Mean   :3.673   Mean   :3.702  \n",
       " 3rd Qu.:4.000   3rd Qu.:4.000   3rd Qu.:4.000   3rd Qu.:4.000  \n",
       " Max.   :5.000   Max.   :5.000   Max.   :5.000   Max.   :5.000  \n",
       "       Q5              Q6              Q7              Q8       \n",
       " Min.   :1.000   Min.   :1.000   Min.   :1.000   Min.   :2.000  \n",
       " 1st Qu.:2.000   1st Qu.:3.000   1st Qu.:4.000   1st Qu.:4.000  \n",
       " Median :2.000   Median :4.000   Median :5.000   Median :4.000  \n",
       " Mean   :2.595   Mean   :3.685   Mean   :4.486   Mean   :4.355  \n",
       " 3rd Qu.:3.000   3rd Qu.:4.000   3rd Qu.:5.000   3rd Qu.:5.000  \n",
       " Max.   :5.000   Max.   :5.000   Max.   :5.000   Max.   :5.000  \n",
       "       Q9             Q10             Q11       \n",
       " Min.   :1.000   Min.   :2.000   Min.   :1.000  \n",
       " 1st Qu.:4.000   1st Qu.:3.000   1st Qu.:4.000  \n",
       " Median :4.000   Median :4.000   Median :4.000  \n",
       " Mean   :3.942   Mean   :3.879   Mean   :4.387  \n",
       " 3rd Qu.:4.000   3rd Qu.:4.000   3rd Qu.:5.000  \n",
       " Max.   :5.000   Max.   :5.000   Max.   :5.000  "
      ]
     },
     "metadata": {},
     "output_type": "display_data"
    },
    {
     "data": {
      "text/html": [
       "<table>\n",
       "<thead><tr><th></th><th scope=col>Q1</th><th scope=col>Q2</th><th scope=col>Q3</th><th scope=col>Q4</th><th scope=col>Q5</th><th scope=col>Q6</th><th scope=col>Q7</th><th scope=col>Q8</th><th scope=col>Q9</th><th scope=col>Q10</th><th scope=col>Q11</th></tr></thead>\n",
       "<tbody>\n",
       "\t<tr><th scope=row>Q1</th><td> 1.000000000</td><td> 0.059952385</td><td>-0.003644044</td><td>-0.06013072 </td><td>-0.112928016</td><td>0.008909036 </td><td> 0.05577229 </td><td> 0.05082842 </td><td>0.06637372  </td><td>0.069081424 </td><td> 0.076265749</td></tr>\n",
       "\t<tr><th scope=row>Q2</th><td> 0.059952385</td><td> 1.000000000</td><td> 0.108125345</td><td> 0.11351964 </td><td>-0.009547943</td><td>0.135531228 </td><td> 0.07399823 </td><td> 0.12000438 </td><td>0.09902066  </td><td>0.036628582 </td><td> 0.053893055</td></tr>\n",
       "\t<tr><th scope=row>Q3</th><td>-0.003644044</td><td> 0.108125345</td><td> 1.000000000</td><td> 0.08302738 </td><td>-0.272280646</td><td>0.024451775 </td><td> 0.07454345 </td><td> 0.14304373 </td><td>0.12607746  </td><td>0.055110052 </td><td> 0.041986583</td></tr>\n",
       "\t<tr><th scope=row>Q4</th><td>-0.060130719</td><td> 0.113519643</td><td> 0.083027377</td><td> 1.00000000 </td><td> 0.218862342</td><td>0.111198194 </td><td> 0.09832347 </td><td> 0.15905905 </td><td>0.20584613  </td><td>0.085286925 </td><td> 0.049270211</td></tr>\n",
       "\t<tr><th scope=row>Q5</th><td>-0.112928016</td><td>-0.009547943</td><td>-0.272280646</td><td> 0.21886234 </td><td> 1.000000000</td><td>0.151722408 </td><td>-0.05383895 </td><td>-0.09944658 </td><td>0.07336088  </td><td>0.003642317 </td><td>-0.059727107</td></tr>\n",
       "\t<tr><th scope=row>Q6</th><td> 0.008909036</td><td> 0.135531228</td><td> 0.024451775</td><td> 0.11119819 </td><td> 0.151722408</td><td>1.000000000 </td><td> 0.10376416 </td><td> 0.08774849 </td><td>0.12692811  </td><td>0.161968632 </td><td> 0.007301459</td></tr>\n",
       "\t<tr><th scope=row>Q7</th><td> 0.055772291</td><td> 0.073998230</td><td> 0.074543449</td><td> 0.09832347 </td><td>-0.053838952</td><td>0.103764165 </td><td> 1.00000000 </td><td> 0.29978280 </td><td>0.15183358  </td><td>0.139262720 </td><td> 0.206282354</td></tr>\n",
       "\t<tr><th scope=row>Q8</th><td> 0.050828420</td><td> 0.120004380</td><td> 0.143043729</td><td> 0.15905905 </td><td>-0.099446578</td><td>0.087748489 </td><td> 0.29978280 </td><td> 1.00000000 </td><td>0.26927372  </td><td>0.328656568 </td><td> 0.164526629</td></tr>\n",
       "\t<tr><th scope=row>Q9</th><td> 0.066373719</td><td> 0.099020655</td><td> 0.126077465</td><td> 0.20584613 </td><td> 0.073360884</td><td>0.126928112 </td><td> 0.15183358 </td><td> 0.26927372 </td><td>1.00000000  </td><td>0.280714796 </td><td> 0.150060666</td></tr>\n",
       "\t<tr><th scope=row>Q10</th><td> 0.069081424</td><td> 0.036628582</td><td> 0.055110052</td><td> 0.08528692 </td><td> 0.003642317</td><td>0.161968632 </td><td> 0.13926272 </td><td> 0.32865657 </td><td>0.28071480  </td><td>1.000000000 </td><td> 0.180949608</td></tr>\n",
       "\t<tr><th scope=row>Q11</th><td> 0.076265749</td><td> 0.053893055</td><td> 0.041986583</td><td> 0.04927021 </td><td>-0.059727107</td><td>0.007301459 </td><td> 0.20628235 </td><td> 0.16452663 </td><td>0.15006067  </td><td>0.180949608 </td><td> 1.000000000</td></tr>\n",
       "</tbody>\n",
       "</table>\n"
      ],
      "text/latex": [
       "\\begin{tabular}{r|lllllllllll}\n",
       "  & Q1 & Q2 & Q3 & Q4 & Q5 & Q6 & Q7 & Q8 & Q9 & Q10 & Q11\\\\\n",
       "\\hline\n",
       "\tQ1 &  1.000000000 &  0.059952385 & -0.003644044 & -0.06013072  & -0.112928016 & 0.008909036  &  0.05577229  &  0.05082842  & 0.06637372   & 0.069081424  &  0.076265749\\\\\n",
       "\tQ2 &  0.059952385 &  1.000000000 &  0.108125345 &  0.11351964  & -0.009547943 & 0.135531228  &  0.07399823  &  0.12000438  & 0.09902066   & 0.036628582  &  0.053893055\\\\\n",
       "\tQ3 & -0.003644044 &  0.108125345 &  1.000000000 &  0.08302738  & -0.272280646 & 0.024451775  &  0.07454345  &  0.14304373  & 0.12607746   & 0.055110052  &  0.041986583\\\\\n",
       "\tQ4 & -0.060130719 &  0.113519643 &  0.083027377 &  1.00000000  &  0.218862342 & 0.111198194  &  0.09832347  &  0.15905905  & 0.20584613   & 0.085286925  &  0.049270211\\\\\n",
       "\tQ5 & -0.112928016 & -0.009547943 & -0.272280646 &  0.21886234  &  1.000000000 & 0.151722408  & -0.05383895  & -0.09944658  & 0.07336088   & 0.003642317  & -0.059727107\\\\\n",
       "\tQ6 &  0.008909036 &  0.135531228 &  0.024451775 &  0.11119819  &  0.151722408 & 1.000000000  &  0.10376416  &  0.08774849  & 0.12692811   & 0.161968632  &  0.007301459\\\\\n",
       "\tQ7 &  0.055772291 &  0.073998230 &  0.074543449 &  0.09832347  & -0.053838952 & 0.103764165  &  1.00000000  &  0.29978280  & 0.15183358   & 0.139262720  &  0.206282354\\\\\n",
       "\tQ8 &  0.050828420 &  0.120004380 &  0.143043729 &  0.15905905  & -0.099446578 & 0.087748489  &  0.29978280  &  1.00000000  & 0.26927372   & 0.328656568  &  0.164526629\\\\\n",
       "\tQ9 &  0.066373719 &  0.099020655 &  0.126077465 &  0.20584613  &  0.073360884 & 0.126928112  &  0.15183358  &  0.26927372  & 1.00000000   & 0.280714796  &  0.150060666\\\\\n",
       "\tQ10 &  0.069081424 &  0.036628582 &  0.055110052 &  0.08528692  &  0.003642317 & 0.161968632  &  0.13926272  &  0.32865657  & 0.28071480   & 1.000000000  &  0.180949608\\\\\n",
       "\tQ11 &  0.076265749 &  0.053893055 &  0.041986583 &  0.04927021  & -0.059727107 & 0.007301459  &  0.20628235  &  0.16452663  & 0.15006067   & 0.180949608  &  1.000000000\\\\\n",
       "\\end{tabular}\n"
      ],
      "text/markdown": [
       "\n",
       "| <!--/--> | Q1 | Q2 | Q3 | Q4 | Q5 | Q6 | Q7 | Q8 | Q9 | Q10 | Q11 |\n",
       "|---|---|---|---|---|---|---|---|---|---|---|---|\n",
       "| Q1 |  1.000000000 |  0.059952385 | -0.003644044 | -0.06013072  | -0.112928016 | 0.008909036  |  0.05577229  |  0.05082842  | 0.06637372   | 0.069081424  |  0.076265749 |\n",
       "| Q2 |  0.059952385 |  1.000000000 |  0.108125345 |  0.11351964  | -0.009547943 | 0.135531228  |  0.07399823  |  0.12000438  | 0.09902066   | 0.036628582  |  0.053893055 |\n",
       "| Q3 | -0.003644044 |  0.108125345 |  1.000000000 |  0.08302738  | -0.272280646 | 0.024451775  |  0.07454345  |  0.14304373  | 0.12607746   | 0.055110052  |  0.041986583 |\n",
       "| Q4 | -0.060130719 |  0.113519643 |  0.083027377 |  1.00000000  |  0.218862342 | 0.111198194  |  0.09832347  |  0.15905905  | 0.20584613   | 0.085286925  |  0.049270211 |\n",
       "| Q5 | -0.112928016 | -0.009547943 | -0.272280646 |  0.21886234  |  1.000000000 | 0.151722408  | -0.05383895  | -0.09944658  | 0.07336088   | 0.003642317  | -0.059727107 |\n",
       "| Q6 |  0.008909036 |  0.135531228 |  0.024451775 |  0.11119819  |  0.151722408 | 1.000000000  |  0.10376416  |  0.08774849  | 0.12692811   | 0.161968632  |  0.007301459 |\n",
       "| Q7 |  0.055772291 |  0.073998230 |  0.074543449 |  0.09832347  | -0.053838952 | 0.103764165  |  1.00000000  |  0.29978280  | 0.15183358   | 0.139262720  |  0.206282354 |\n",
       "| Q8 |  0.050828420 |  0.120004380 |  0.143043729 |  0.15905905  | -0.099446578 | 0.087748489  |  0.29978280  |  1.00000000  | 0.26927372   | 0.328656568  |  0.164526629 |\n",
       "| Q9 |  0.066373719 |  0.099020655 |  0.126077465 |  0.20584613  |  0.073360884 | 0.126928112  |  0.15183358  |  0.26927372  | 1.00000000   | 0.280714796  |  0.150060666 |\n",
       "| Q10 |  0.069081424 |  0.036628582 |  0.055110052 |  0.08528692  |  0.003642317 | 0.161968632  |  0.13926272  |  0.32865657  | 0.28071480   | 1.000000000  |  0.180949608 |\n",
       "| Q11 |  0.076265749 |  0.053893055 |  0.041986583 |  0.04927021  | -0.059727107 | 0.007301459  |  0.20628235  |  0.16452663  | 0.15006067   | 0.180949608  |  1.000000000 |\n",
       "\n"
      ],
      "text/plain": [
       "    Q1           Q2           Q3           Q4          Q5           Q6         \n",
       "Q1   1.000000000  0.059952385 -0.003644044 -0.06013072 -0.112928016 0.008909036\n",
       "Q2   0.059952385  1.000000000  0.108125345  0.11351964 -0.009547943 0.135531228\n",
       "Q3  -0.003644044  0.108125345  1.000000000  0.08302738 -0.272280646 0.024451775\n",
       "Q4  -0.060130719  0.113519643  0.083027377  1.00000000  0.218862342 0.111198194\n",
       "Q5  -0.112928016 -0.009547943 -0.272280646  0.21886234  1.000000000 0.151722408\n",
       "Q6   0.008909036  0.135531228  0.024451775  0.11119819  0.151722408 1.000000000\n",
       "Q7   0.055772291  0.073998230  0.074543449  0.09832347 -0.053838952 0.103764165\n",
       "Q8   0.050828420  0.120004380  0.143043729  0.15905905 -0.099446578 0.087748489\n",
       "Q9   0.066373719  0.099020655  0.126077465  0.20584613  0.073360884 0.126928112\n",
       "Q10  0.069081424  0.036628582  0.055110052  0.08528692  0.003642317 0.161968632\n",
       "Q11  0.076265749  0.053893055  0.041986583  0.04927021 -0.059727107 0.007301459\n",
       "    Q7          Q8          Q9         Q10         Q11         \n",
       "Q1   0.05577229  0.05082842 0.06637372 0.069081424  0.076265749\n",
       "Q2   0.07399823  0.12000438 0.09902066 0.036628582  0.053893055\n",
       "Q3   0.07454345  0.14304373 0.12607746 0.055110052  0.041986583\n",
       "Q4   0.09832347  0.15905905 0.20584613 0.085286925  0.049270211\n",
       "Q5  -0.05383895 -0.09944658 0.07336088 0.003642317 -0.059727107\n",
       "Q6   0.10376416  0.08774849 0.12692811 0.161968632  0.007301459\n",
       "Q7   1.00000000  0.29978280 0.15183358 0.139262720  0.206282354\n",
       "Q8   0.29978280  1.00000000 0.26927372 0.328656568  0.164526629\n",
       "Q9   0.15183358  0.26927372 1.00000000 0.280714796  0.150060666\n",
       "Q10  0.13926272  0.32865657 0.28071480 1.000000000  0.180949608\n",
       "Q11  0.20628235  0.16452663 0.15006067 0.180949608  1.000000000"
      ]
     },
     "metadata": {},
     "output_type": "display_data"
    }
   ],
   "source": [
    "# Descriptive statistics\n",
    "summary(x)\n",
    "cor(x)"
   ]
  },
  {
   "cell_type": "code",
   "execution_count": 71,
   "metadata": {},
   "outputs": [],
   "source": [
    "# Principal Component Analysis\n",
    "pca <-princomp(x, score=TRUE, cor=TRUE)"
   ]
  },
  {
   "cell_type": "code",
   "execution_count": 72,
   "metadata": {},
   "outputs": [
    {
     "data": {
      "text/plain": [
       "\n",
       "Loadings:\n",
       "    Comp.1 Comp.2 Comp.3 Comp.4 Comp.5 Comp.6 Comp.7 Comp.8 Comp.9 Comp.10\n",
       "Q1   0.109  0.251  0.300  0.667         0.432  0.347  0.207  0.139        \n",
       "Q2   0.216        -0.447  0.522 -0.358        -0.302 -0.485         0.126 \n",
       "Q3   0.211  0.358 -0.594 -0.155  0.175                0.394         0.340 \n",
       "Q4   0.265 -0.397 -0.296 -0.205 -0.207  0.413  0.232  0.166  0.462 -0.109 \n",
       "Q5         -0.691  0.147                0.107                       0.356 \n",
       "Q6   0.229 -0.330 -0.124  0.402  0.229 -0.574         0.428        -0.296 \n",
       "Q7   0.361  0.100  0.154        -0.472 -0.380  0.482        -0.253  0.356 \n",
       "Q8   0.466  0.111        -0.168        -0.100  0.246 -0.424  0.193 -0.453 \n",
       "Q9   0.419 -0.129                0.271  0.361               -0.728 -0.187 \n",
       "Q10  0.406         0.278         0.479        -0.232 -0.230  0.321  0.502 \n",
       "Q11  0.293  0.153  0.360        -0.452        -0.616  0.336  0.117 -0.141 \n",
       "    Comp.11\n",
       "Q1   0.120 \n",
       "Q2         \n",
       "Q3   0.379 \n",
       "Q4  -0.349 \n",
       "Q5   0.587 \n",
       "Q6         \n",
       "Q7  -0.167 \n",
       "Q8   0.494 \n",
       "Q9  -0.167 \n",
       "Q10 -0.239 \n",
       "Q11  0.117 \n",
       "\n",
       "               Comp.1 Comp.2 Comp.3 Comp.4 Comp.5 Comp.6 Comp.7 Comp.8 Comp.9\n",
       "SS loadings     1.000  1.000  1.000  1.000  1.000  1.000  1.000  1.000  1.000\n",
       "Proportion Var  0.091  0.091  0.091  0.091  0.091  0.091  0.091  0.091  0.091\n",
       "Cumulative Var  0.091  0.182  0.273  0.364  0.455  0.545  0.636  0.727  0.818\n",
       "               Comp.10 Comp.11\n",
       "SS loadings      1.000   1.000\n",
       "Proportion Var   0.091   0.091\n",
       "Cumulative Var   0.909   1.000"
      ]
     },
     "metadata": {},
     "output_type": "display_data"
    }
   ],
   "source": [
    "# Loading of Principal Components\n",
    "loadings(pca)"
   ]
  },
  {
   "cell_type": "code",
   "execution_count": 73,
   "metadata": {},
   "outputs": [
    {
     "data": {
      "image/png": "[encoded data removed]",
      "text/plain": [
       "Plot with title \"pca\""
      ]
     },
     "metadata": {},
     "output_type": "display_data"
    },
    {
     "data": {
      "image/png": "[encoded data removed]",
      "text/plain": [
       "Plot with title \"scree plot\""
      ]
     },
     "metadata": {},
     "output_type": "display_data"
    }
   ],
   "source": [
    "# Scree plot of eigenvalues\n",
    "plot(pca)\n",
    "screeplot(pca, type=\"line\", main=\"scree plot\")"
   ]
  },
  {
   "cell_type": "code",
   "execution_count": 74,
   "metadata": {},
   "outputs": [
    {
     "data": {
      "image/png": "[encoded data removed]",
      "text/plain": [
       "plot without title"
      ]
     },
     "metadata": {},
     "output_type": "display_data"
    }
   ],
   "source": [
    "# Biplot of score variables\n",
    "biplot(pca)"
   ]
  },
  {
   "cell_type": "code",
   "execution_count": 75,
   "metadata": {},
   "outputs": [
    {
     "data": {
      "text/html": [
       "<table>\n",
       "<thead><tr><th scope=col>Comp.1</th><th scope=col>Comp.2</th><th scope=col>Comp.3</th><th scope=col>Comp.4</th><th scope=col>Comp.5</th><th scope=col>Comp.6</th><th scope=col>Comp.7</th><th scope=col>Comp.8</th><th scope=col>Comp.9</th><th scope=col>Comp.10</th><th scope=col>Comp.11</th></tr></thead>\n",
       "<tbody>\n",
       "\t<tr><td> 2.1191384 </td><td>-2.22906566</td><td>-1.2725598 </td><td>-0.2612934 </td><td> 0.02156251</td><td>-1.08698956</td><td>-0.03599529</td><td>-0.8740945 </td><td> 0.67991165</td><td> 0.87938705</td><td> 0.06383629</td></tr>\n",
       "\t<tr><td>-0.5156983 </td><td> 0.64608737</td><td>-1.8435234 </td><td> 0.9981679 </td><td> 0.69489074</td><td>-1.22425969</td><td> 1.52404520</td><td> 0.8904869 </td><td>-1.16446596</td><td> 0.22247238</td><td> 0.09083242</td></tr>\n",
       "\t<tr><td>-0.8617172 </td><td>-1.47402014</td><td>-1.5411317 </td><td>-0.5196853 </td><td> 0.38635740</td><td>-1.22312338</td><td> 2.61607635</td><td>-1.6940924 </td><td>-0.94782339</td><td>-0.57039489</td><td>-0.14544803</td></tr>\n",
       "\t<tr><td>-0.2229824 </td><td> 1.14882827</td><td> 1.4723581 </td><td> 1.2710245 </td><td>-1.30807231</td><td> 0.54318899</td><td>-0.69113607</td><td>-1.2134852 </td><td>-1.20071454</td><td> 1.30708723</td><td> 0.41835968</td></tr>\n",
       "\t<tr><td>-0.0504557 </td><td> 1.68591505</td><td> 1.5427067 </td><td> 0.5568237 </td><td> 0.34787449</td><td>-0.70020157</td><td>-0.07725667</td><td> 1.2943463 </td><td>-0.77005118</td><td> 0.41521690</td><td> 0.29487188</td></tr>\n",
       "\t<tr><td>-1.4746652 </td><td>-1.92094110</td><td>-0.1039882 </td><td>-0.2522808 </td><td>-0.93757382</td><td>-1.18238802</td><td>-0.14429689</td><td> 0.2096223 </td><td> 0.19378659</td><td> 1.69572651</td><td>-0.77061129</td></tr>\n",
       "\t<tr><td> 2.3423511 </td><td> 2.69836724</td><td> 0.6187243 </td><td> 0.6139924 </td><td> 1.31251434</td><td>-0.45686546</td><td>-0.55341661</td><td> 0.2088689 </td><td>-1.06516559</td><td> 0.33280223</td><td> 0.22535851</td></tr>\n",
       "\t<tr><td>-1.1638256 </td><td>-0.05313799</td><td> 0.4613958 </td><td> 2.1751715 </td><td>-1.13330054</td><td>-2.41201443</td><td> 0.25561036</td><td>-1.0068344 </td><td> 1.39987979</td><td> 0.24677657</td><td>-0.93790902</td></tr>\n",
       "\t<tr><td>-4.3689199 </td><td>-0.89274529</td><td>-0.6187337 </td><td>-0.5873848 </td><td> 1.10362426</td><td>-0.03827072</td><td>-0.27501505</td><td>-0.2700446 </td><td>-0.01741099</td><td>-0.01132038</td><td>-0.18294734</td></tr>\n",
       "\t<tr><td>-0.1648799 </td><td> 0.48691702</td><td>-1.2857904 </td><td>-0.2275923 </td><td> 1.18177758</td><td>-0.55856064</td><td>-0.65838541</td><td> 0.1329854 </td><td> 1.65651646</td><td> 1.22450355</td><td>-0.34080309</td></tr>\n",
       "</tbody>\n",
       "</table>\n"
      ],
      "text/latex": [
       "\\begin{tabular}{lllllllllll}\n",
       " Comp.1 & Comp.2 & Comp.3 & Comp.4 & Comp.5 & Comp.6 & Comp.7 & Comp.8 & Comp.9 & Comp.10 & Comp.11\\\\\n",
       "\\hline\n",
       "\t  2.1191384  & -2.22906566 & -1.2725598  & -0.2612934  &  0.02156251 & -1.08698956 & -0.03599529 & -0.8740945  &  0.67991165 &  0.87938705 &  0.06383629\\\\\n",
       "\t -0.5156983  &  0.64608737 & -1.8435234  &  0.9981679  &  0.69489074 & -1.22425969 &  1.52404520 &  0.8904869  & -1.16446596 &  0.22247238 &  0.09083242\\\\\n",
       "\t -0.8617172  & -1.47402014 & -1.5411317  & -0.5196853  &  0.38635740 & -1.22312338 &  2.61607635 & -1.6940924  & -0.94782339 & -0.57039489 & -0.14544803\\\\\n",
       "\t -0.2229824  &  1.14882827 &  1.4723581  &  1.2710245  & -1.30807231 &  0.54318899 & -0.69113607 & -1.2134852  & -1.20071454 &  1.30708723 &  0.41835968\\\\\n",
       "\t -0.0504557  &  1.68591505 &  1.5427067  &  0.5568237  &  0.34787449 & -0.70020157 & -0.07725667 &  1.2943463  & -0.77005118 &  0.41521690 &  0.29487188\\\\\n",
       "\t -1.4746652  & -1.92094110 & -0.1039882  & -0.2522808  & -0.93757382 & -1.18238802 & -0.14429689 &  0.2096223  &  0.19378659 &  1.69572651 & -0.77061129\\\\\n",
       "\t  2.3423511  &  2.69836724 &  0.6187243  &  0.6139924  &  1.31251434 & -0.45686546 & -0.55341661 &  0.2088689  & -1.06516559 &  0.33280223 &  0.22535851\\\\\n",
       "\t -1.1638256  & -0.05313799 &  0.4613958  &  2.1751715  & -1.13330054 & -2.41201443 &  0.25561036 & -1.0068344  &  1.39987979 &  0.24677657 & -0.93790902\\\\\n",
       "\t -4.3689199  & -0.89274529 & -0.6187337  & -0.5873848  &  1.10362426 & -0.03827072 & -0.27501505 & -0.2700446  & -0.01741099 & -0.01132038 & -0.18294734\\\\\n",
       "\t -0.1648799  &  0.48691702 & -1.2857904  & -0.2275923  &  1.18177758 & -0.55856064 & -0.65838541 &  0.1329854  &  1.65651646 &  1.22450355 & -0.34080309\\\\\n",
       "\\end{tabular}\n"
      ],
      "text/markdown": [
       "\n",
       "| Comp.1 | Comp.2 | Comp.3 | Comp.4 | Comp.5 | Comp.6 | Comp.7 | Comp.8 | Comp.9 | Comp.10 | Comp.11 |\n",
       "|---|---|---|---|---|---|---|---|---|---|---|\n",
       "|  2.1191384  | -2.22906566 | -1.2725598  | -0.2612934  |  0.02156251 | -1.08698956 | -0.03599529 | -0.8740945  |  0.67991165 |  0.87938705 |  0.06383629 |\n",
       "| -0.5156983  |  0.64608737 | -1.8435234  |  0.9981679  |  0.69489074 | -1.22425969 |  1.52404520 |  0.8904869  | -1.16446596 |  0.22247238 |  0.09083242 |\n",
       "| -0.8617172  | -1.47402014 | -1.5411317  | -0.5196853  |  0.38635740 | -1.22312338 |  2.61607635 | -1.6940924  | -0.94782339 | -0.57039489 | -0.14544803 |\n",
       "| -0.2229824  |  1.14882827 |  1.4723581  |  1.2710245  | -1.30807231 |  0.54318899 | -0.69113607 | -1.2134852  | -1.20071454 |  1.30708723 |  0.41835968 |\n",
       "| -0.0504557  |  1.68591505 |  1.5427067  |  0.5568237  |  0.34787449 | -0.70020157 | -0.07725667 |  1.2943463  | -0.77005118 |  0.41521690 |  0.29487188 |\n",
       "| -1.4746652  | -1.92094110 | -0.1039882  | -0.2522808  | -0.93757382 | -1.18238802 | -0.14429689 |  0.2096223  |  0.19378659 |  1.69572651 | -0.77061129 |\n",
       "|  2.3423511  |  2.69836724 |  0.6187243  |  0.6139924  |  1.31251434 | -0.45686546 | -0.55341661 |  0.2088689  | -1.06516559 |  0.33280223 |  0.22535851 |\n",
       "| -1.1638256  | -0.05313799 |  0.4613958  |  2.1751715  | -1.13330054 | -2.41201443 |  0.25561036 | -1.0068344  |  1.39987979 |  0.24677657 | -0.93790902 |\n",
       "| -4.3689199  | -0.89274529 | -0.6187337  | -0.5873848  |  1.10362426 | -0.03827072 | -0.27501505 | -0.2700446  | -0.01741099 | -0.01132038 | -0.18294734 |\n",
       "| -0.1648799  |  0.48691702 | -1.2857904  | -0.2275923  |  1.18177758 | -0.55856064 | -0.65838541 |  0.1329854  |  1.65651646 |  1.22450355 | -0.34080309 |\n",
       "\n"
      ],
      "text/plain": [
       "      Comp.1     Comp.2      Comp.3     Comp.4     Comp.5      Comp.6     \n",
       " [1,]  2.1191384 -2.22906566 -1.2725598 -0.2612934  0.02156251 -1.08698956\n",
       " [2,] -0.5156983  0.64608737 -1.8435234  0.9981679  0.69489074 -1.22425969\n",
       " [3,] -0.8617172 -1.47402014 -1.5411317 -0.5196853  0.38635740 -1.22312338\n",
       " [4,] -0.2229824  1.14882827  1.4723581  1.2710245 -1.30807231  0.54318899\n",
       " [5,] -0.0504557  1.68591505  1.5427067  0.5568237  0.34787449 -0.70020157\n",
       " [6,] -1.4746652 -1.92094110 -0.1039882 -0.2522808 -0.93757382 -1.18238802\n",
       " [7,]  2.3423511  2.69836724  0.6187243  0.6139924  1.31251434 -0.45686546\n",
       " [8,] -1.1638256 -0.05313799  0.4613958  2.1751715 -1.13330054 -2.41201443\n",
       " [9,] -4.3689199 -0.89274529 -0.6187337 -0.5873848  1.10362426 -0.03827072\n",
       "[10,] -0.1648799  0.48691702 -1.2857904 -0.2275923  1.18177758 -0.55856064\n",
       "      Comp.7      Comp.8     Comp.9      Comp.10     Comp.11    \n",
       " [1,] -0.03599529 -0.8740945  0.67991165  0.87938705  0.06383629\n",
       " [2,]  1.52404520  0.8904869 -1.16446596  0.22247238  0.09083242\n",
       " [3,]  2.61607635 -1.6940924 -0.94782339 -0.57039489 -0.14544803\n",
       " [4,] -0.69113607 -1.2134852 -1.20071454  1.30708723  0.41835968\n",
       " [5,] -0.07725667  1.2943463 -0.77005118  0.41521690  0.29487188\n",
       " [6,] -0.14429689  0.2096223  0.19378659  1.69572651 -0.77061129\n",
       " [7,] -0.55341661  0.2088689 -1.06516559  0.33280223  0.22535851\n",
       " [8,]  0.25561036 -1.0068344  1.39987979  0.24677657 -0.93790902\n",
       " [9,] -0.27501505 -0.2700446 -0.01741099 -0.01132038 -0.18294734\n",
       "[10,] -0.65838541  0.1329854  1.65651646  1.22450355 -0.34080309"
      ]
     },
     "metadata": {},
     "output_type": "display_data"
    }
   ],
   "source": [
    "# Scores  of the components\n",
    "pca$scores[1:10,]"
   ]
  },
  {
   "cell_type": "code",
   "execution_count": null,
   "metadata": {},
   "outputs": [],
   "source": []
  }
 ],
 "metadata": {
  "kernelspec": {
   "display_name": "R",
   "language": "R",
   "name": "ir"
  },
  "language_info": {
   "codemirror_mode": "r",
   "file_extension": ".r",
   "mimetype": "text/x-r-source",
   "name": "R",
   "pygments_lexer": "r",
   "version": "3.6.1"
  }
 },
 "nbformat": 4,
 "nbformat_minor": 4
}
